{
  "nbformat": 4,
  "nbformat_minor": 0,
  "metadata": {
    "colab": {
      "provenance": [],
      "authorship_tag": "ABX9TyNiKoxTEW2ZoiT4xc28BFZC",
      "include_colab_link": true
    },
    "kernelspec": {
      "name": "python3",
      "display_name": "Python 3"
    },
    "language_info": {
      "name": "python"
    },
    "widgets": {
      "application/vnd.jupyter.widget-state+json": {
        "16be1f28ab694dd8b4fdbab425eb67eb": {
          "model_module": "@jupyter-widgets/controls",
          "model_name": "HBoxModel",
          "model_module_version": "1.5.0",
          "state": {
            "_dom_classes": [],
            "_model_module": "@jupyter-widgets/controls",
            "_model_module_version": "1.5.0",
            "_model_name": "HBoxModel",
            "_view_count": null,
            "_view_module": "@jupyter-widgets/controls",
            "_view_module_version": "1.5.0",
            "_view_name": "HBoxView",
            "box_style": "",
            "children": [
              "IPY_MODEL_592976d83f0c49e69017179d595862f9",
              "IPY_MODEL_c2b7b8f26adb45aaadba6f9dfa98c0f7",
              "IPY_MODEL_c6789deca21e48dc850f827d4e8bedf1"
            ],
            "layout": "IPY_MODEL_819d741e39eb411697fc1a7206a2e6a0"
          }
        },
        "592976d83f0c49e69017179d595862f9": {
          "model_module": "@jupyter-widgets/controls",
          "model_name": "HTMLModel",
          "model_module_version": "1.5.0",
          "state": {
            "_dom_classes": [],
            "_model_module": "@jupyter-widgets/controls",
            "_model_module_version": "1.5.0",
            "_model_name": "HTMLModel",
            "_view_count": null,
            "_view_module": "@jupyter-widgets/controls",
            "_view_module_version": "1.5.0",
            "_view_name": "HTMLView",
            "description": "",
            "description_tooltip": null,
            "layout": "IPY_MODEL_b14d77c396f045de8b0cc9bdf35aa46a",
            "placeholder": "​",
            "style": "IPY_MODEL_eddb8a92339448739ae68833e223bf93",
            "value": "Processing: 100%"
          }
        },
        "c2b7b8f26adb45aaadba6f9dfa98c0f7": {
          "model_module": "@jupyter-widgets/controls",
          "model_name": "FloatProgressModel",
          "model_module_version": "1.5.0",
          "state": {
            "_dom_classes": [],
            "_model_module": "@jupyter-widgets/controls",
            "_model_module_version": "1.5.0",
            "_model_name": "FloatProgressModel",
            "_view_count": null,
            "_view_module": "@jupyter-widgets/controls",
            "_view_module_version": "1.5.0",
            "_view_name": "ProgressView",
            "bar_style": "",
            "description": "",
            "description_tooltip": null,
            "layout": "IPY_MODEL_bd697dd1fb90438590cc380a66716138",
            "max": 81,
            "min": 0,
            "orientation": "horizontal",
            "style": "IPY_MODEL_037c25bf41c94c91b179d8ca84c2f7e0",
            "value": 81
          }
        },
        "c6789deca21e48dc850f827d4e8bedf1": {
          "model_module": "@jupyter-widgets/controls",
          "model_name": "HTMLModel",
          "model_module_version": "1.5.0",
          "state": {
            "_dom_classes": [],
            "_model_module": "@jupyter-widgets/controls",
            "_model_module_version": "1.5.0",
            "_model_name": "HTMLModel",
            "_view_count": null,
            "_view_module": "@jupyter-widgets/controls",
            "_view_module_version": "1.5.0",
            "_view_name": "HTMLView",
            "description": "",
            "description_tooltip": null,
            "layout": "IPY_MODEL_db5cc573c26b4b3e8e4f2c7e9d78c108",
            "placeholder": "​",
            "style": "IPY_MODEL_870c522ad11c491a905b5b174092510e",
            "value": " 81/81 [04:14&lt;00:00,  2.42s/it]"
          }
        },
        "819d741e39eb411697fc1a7206a2e6a0": {
          "model_module": "@jupyter-widgets/base",
          "model_name": "LayoutModel",
          "model_module_version": "1.2.0",
          "state": {
            "_model_module": "@jupyter-widgets/base",
            "_model_module_version": "1.2.0",
            "_model_name": "LayoutModel",
            "_view_count": null,
            "_view_module": "@jupyter-widgets/base",
            "_view_module_version": "1.2.0",
            "_view_name": "LayoutView",
            "align_content": null,
            "align_items": null,
            "align_self": null,
            "border": null,
            "bottom": null,
            "display": null,
            "flex": null,
            "flex_flow": null,
            "grid_area": null,
            "grid_auto_columns": null,
            "grid_auto_flow": null,
            "grid_auto_rows": null,
            "grid_column": null,
            "grid_gap": null,
            "grid_row": null,
            "grid_template_areas": null,
            "grid_template_columns": null,
            "grid_template_rows": null,
            "height": null,
            "justify_content": null,
            "justify_items": null,
            "left": null,
            "margin": null,
            "max_height": null,
            "max_width": null,
            "min_height": null,
            "min_width": null,
            "object_fit": null,
            "object_position": null,
            "order": null,
            "overflow": null,
            "overflow_x": null,
            "overflow_y": null,
            "padding": null,
            "right": null,
            "top": null,
            "visibility": "hidden",
            "width": null
          }
        },
        "b14d77c396f045de8b0cc9bdf35aa46a": {
          "model_module": "@jupyter-widgets/base",
          "model_name": "LayoutModel",
          "model_module_version": "1.2.0",
          "state": {
            "_model_module": "@jupyter-widgets/base",
            "_model_module_version": "1.2.0",
            "_model_name": "LayoutModel",
            "_view_count": null,
            "_view_module": "@jupyter-widgets/base",
            "_view_module_version": "1.2.0",
            "_view_name": "LayoutView",
            "align_content": null,
            "align_items": null,
            "align_self": null,
            "border": null,
            "bottom": null,
            "display": null,
            "flex": null,
            "flex_flow": null,
            "grid_area": null,
            "grid_auto_columns": null,
            "grid_auto_flow": null,
            "grid_auto_rows": null,
            "grid_column": null,
            "grid_gap": null,
            "grid_row": null,
            "grid_template_areas": null,
            "grid_template_columns": null,
            "grid_template_rows": null,
            "height": null,
            "justify_content": null,
            "justify_items": null,
            "left": null,
            "margin": null,
            "max_height": null,
            "max_width": null,
            "min_height": null,
            "min_width": null,
            "object_fit": null,
            "object_position": null,
            "order": null,
            "overflow": null,
            "overflow_x": null,
            "overflow_y": null,
            "padding": null,
            "right": null,
            "top": null,
            "visibility": null,
            "width": null
          }
        },
        "eddb8a92339448739ae68833e223bf93": {
          "model_module": "@jupyter-widgets/controls",
          "model_name": "DescriptionStyleModel",
          "model_module_version": "1.5.0",
          "state": {
            "_model_module": "@jupyter-widgets/controls",
            "_model_module_version": "1.5.0",
            "_model_name": "DescriptionStyleModel",
            "_view_count": null,
            "_view_module": "@jupyter-widgets/base",
            "_view_module_version": "1.2.0",
            "_view_name": "StyleView",
            "description_width": ""
          }
        },
        "bd697dd1fb90438590cc380a66716138": {
          "model_module": "@jupyter-widgets/base",
          "model_name": "LayoutModel",
          "model_module_version": "1.2.0",
          "state": {
            "_model_module": "@jupyter-widgets/base",
            "_model_module_version": "1.2.0",
            "_model_name": "LayoutModel",
            "_view_count": null,
            "_view_module": "@jupyter-widgets/base",
            "_view_module_version": "1.2.0",
            "_view_name": "LayoutView",
            "align_content": null,
            "align_items": null,
            "align_self": null,
            "border": null,
            "bottom": null,
            "display": null,
            "flex": null,
            "flex_flow": null,
            "grid_area": null,
            "grid_auto_columns": null,
            "grid_auto_flow": null,
            "grid_auto_rows": null,
            "grid_column": null,
            "grid_gap": null,
            "grid_row": null,
            "grid_template_areas": null,
            "grid_template_columns": null,
            "grid_template_rows": null,
            "height": null,
            "justify_content": null,
            "justify_items": null,
            "left": null,
            "margin": null,
            "max_height": null,
            "max_width": null,
            "min_height": null,
            "min_width": null,
            "object_fit": null,
            "object_position": null,
            "order": null,
            "overflow": null,
            "overflow_x": null,
            "overflow_y": null,
            "padding": null,
            "right": null,
            "top": null,
            "visibility": null,
            "width": null
          }
        },
        "037c25bf41c94c91b179d8ca84c2f7e0": {
          "model_module": "@jupyter-widgets/controls",
          "model_name": "ProgressStyleModel",
          "model_module_version": "1.5.0",
          "state": {
            "_model_module": "@jupyter-widgets/controls",
            "_model_module_version": "1.5.0",
            "_model_name": "ProgressStyleModel",
            "_view_count": null,
            "_view_module": "@jupyter-widgets/base",
            "_view_module_version": "1.2.0",
            "_view_name": "StyleView",
            "bar_color": null,
            "description_width": ""
          }
        },
        "db5cc573c26b4b3e8e4f2c7e9d78c108": {
          "model_module": "@jupyter-widgets/base",
          "model_name": "LayoutModel",
          "model_module_version": "1.2.0",
          "state": {
            "_model_module": "@jupyter-widgets/base",
            "_model_module_version": "1.2.0",
            "_model_name": "LayoutModel",
            "_view_count": null,
            "_view_module": "@jupyter-widgets/base",
            "_view_module_version": "1.2.0",
            "_view_name": "LayoutView",
            "align_content": null,
            "align_items": null,
            "align_self": null,
            "border": null,
            "bottom": null,
            "display": null,
            "flex": null,
            "flex_flow": null,
            "grid_area": null,
            "grid_auto_columns": null,
            "grid_auto_flow": null,
            "grid_auto_rows": null,
            "grid_column": null,
            "grid_gap": null,
            "grid_row": null,
            "grid_template_areas": null,
            "grid_template_columns": null,
            "grid_template_rows": null,
            "height": null,
            "justify_content": null,
            "justify_items": null,
            "left": null,
            "margin": null,
            "max_height": null,
            "max_width": null,
            "min_height": null,
            "min_width": null,
            "object_fit": null,
            "object_position": null,
            "order": null,
            "overflow": null,
            "overflow_x": null,
            "overflow_y": null,
            "padding": null,
            "right": null,
            "top": null,
            "visibility": null,
            "width": null
          }
        },
        "870c522ad11c491a905b5b174092510e": {
          "model_module": "@jupyter-widgets/controls",
          "model_name": "DescriptionStyleModel",
          "model_module_version": "1.5.0",
          "state": {
            "_model_module": "@jupyter-widgets/controls",
            "_model_module_version": "1.5.0",
            "_model_name": "DescriptionStyleModel",
            "_view_count": null,
            "_view_module": "@jupyter-widgets/base",
            "_view_module_version": "1.2.0",
            "_view_name": "StyleView",
            "description_width": ""
          }
        },
        "8c3a9507caec4f83ba5ac465dd2944ca": {
          "model_module": "@jupyter-widgets/controls",
          "model_name": "HBoxModel",
          "model_module_version": "1.5.0",
          "state": {
            "_dom_classes": [],
            "_model_module": "@jupyter-widgets/controls",
            "_model_module_version": "1.5.0",
            "_model_name": "HBoxModel",
            "_view_count": null,
            "_view_module": "@jupyter-widgets/controls",
            "_view_module_version": "1.5.0",
            "_view_name": "HBoxView",
            "box_style": "",
            "children": [
              "IPY_MODEL_320fb9f1504b4fca937a0c7754802ae1",
              "IPY_MODEL_94c8c5ca4fea455ab65cf04e49d71662",
              "IPY_MODEL_97a3612a73a14e3f8b6401eedd894473"
            ],
            "layout": "IPY_MODEL_6b05957c167640f8af64b3c7e3e44d53"
          }
        },
        "320fb9f1504b4fca937a0c7754802ae1": {
          "model_module": "@jupyter-widgets/controls",
          "model_name": "HTMLModel",
          "model_module_version": "1.5.0",
          "state": {
            "_dom_classes": [],
            "_model_module": "@jupyter-widgets/controls",
            "_model_module_version": "1.5.0",
            "_model_name": "HTMLModel",
            "_view_count": null,
            "_view_module": "@jupyter-widgets/controls",
            "_view_module_version": "1.5.0",
            "_view_name": "HTMLView",
            "description": "",
            "description_tooltip": null,
            "layout": "IPY_MODEL_094d701ada224b1b9da3a7e2f6144018",
            "placeholder": "​",
            "style": "IPY_MODEL_e613f91632a74900b88d4db0a7950df2",
            "value": "Processing: 100%"
          }
        },
        "94c8c5ca4fea455ab65cf04e49d71662": {
          "model_module": "@jupyter-widgets/controls",
          "model_name": "FloatProgressModel",
          "model_module_version": "1.5.0",
          "state": {
            "_dom_classes": [],
            "_model_module": "@jupyter-widgets/controls",
            "_model_module_version": "1.5.0",
            "_model_name": "FloatProgressModel",
            "_view_count": null,
            "_view_module": "@jupyter-widgets/controls",
            "_view_module_version": "1.5.0",
            "_view_name": "ProgressView",
            "bar_style": "",
            "description": "",
            "description_tooltip": null,
            "layout": "IPY_MODEL_e174d8e6c344412d825d39f43072ecd3",
            "max": 4,
            "min": 0,
            "orientation": "horizontal",
            "style": "IPY_MODEL_8e99f3ac3abe4f0dbdfbc4779a8842a3",
            "value": 4
          }
        },
        "97a3612a73a14e3f8b6401eedd894473": {
          "model_module": "@jupyter-widgets/controls",
          "model_name": "HTMLModel",
          "model_module_version": "1.5.0",
          "state": {
            "_dom_classes": [],
            "_model_module": "@jupyter-widgets/controls",
            "_model_module_version": "1.5.0",
            "_model_name": "HTMLModel",
            "_view_count": null,
            "_view_module": "@jupyter-widgets/controls",
            "_view_module_version": "1.5.0",
            "_view_name": "HTMLView",
            "description": "",
            "description_tooltip": null,
            "layout": "IPY_MODEL_a76340bc1040478fbcac84750f8dac9b",
            "placeholder": "​",
            "style": "IPY_MODEL_5edce6f8349c46f8b8eda1d3b583a2c1",
            "value": " 4/4 [00:05&lt;00:00,  1.20s/it]"
          }
        },
        "6b05957c167640f8af64b3c7e3e44d53": {
          "model_module": "@jupyter-widgets/base",
          "model_name": "LayoutModel",
          "model_module_version": "1.2.0",
          "state": {
            "_model_module": "@jupyter-widgets/base",
            "_model_module_version": "1.2.0",
            "_model_name": "LayoutModel",
            "_view_count": null,
            "_view_module": "@jupyter-widgets/base",
            "_view_module_version": "1.2.0",
            "_view_name": "LayoutView",
            "align_content": null,
            "align_items": null,
            "align_self": null,
            "border": null,
            "bottom": null,
            "display": null,
            "flex": null,
            "flex_flow": null,
            "grid_area": null,
            "grid_auto_columns": null,
            "grid_auto_flow": null,
            "grid_auto_rows": null,
            "grid_column": null,
            "grid_gap": null,
            "grid_row": null,
            "grid_template_areas": null,
            "grid_template_columns": null,
            "grid_template_rows": null,
            "height": null,
            "justify_content": null,
            "justify_items": null,
            "left": null,
            "margin": null,
            "max_height": null,
            "max_width": null,
            "min_height": null,
            "min_width": null,
            "object_fit": null,
            "object_position": null,
            "order": null,
            "overflow": null,
            "overflow_x": null,
            "overflow_y": null,
            "padding": null,
            "right": null,
            "top": null,
            "visibility": "hidden",
            "width": null
          }
        },
        "094d701ada224b1b9da3a7e2f6144018": {
          "model_module": "@jupyter-widgets/base",
          "model_name": "LayoutModel",
          "model_module_version": "1.2.0",
          "state": {
            "_model_module": "@jupyter-widgets/base",
            "_model_module_version": "1.2.0",
            "_model_name": "LayoutModel",
            "_view_count": null,
            "_view_module": "@jupyter-widgets/base",
            "_view_module_version": "1.2.0",
            "_view_name": "LayoutView",
            "align_content": null,
            "align_items": null,
            "align_self": null,
            "border": null,
            "bottom": null,
            "display": null,
            "flex": null,
            "flex_flow": null,
            "grid_area": null,
            "grid_auto_columns": null,
            "grid_auto_flow": null,
            "grid_auto_rows": null,
            "grid_column": null,
            "grid_gap": null,
            "grid_row": null,
            "grid_template_areas": null,
            "grid_template_columns": null,
            "grid_template_rows": null,
            "height": null,
            "justify_content": null,
            "justify_items": null,
            "left": null,
            "margin": null,
            "max_height": null,
            "max_width": null,
            "min_height": null,
            "min_width": null,
            "object_fit": null,
            "object_position": null,
            "order": null,
            "overflow": null,
            "overflow_x": null,
            "overflow_y": null,
            "padding": null,
            "right": null,
            "top": null,
            "visibility": null,
            "width": null
          }
        },
        "e613f91632a74900b88d4db0a7950df2": {
          "model_module": "@jupyter-widgets/controls",
          "model_name": "DescriptionStyleModel",
          "model_module_version": "1.5.0",
          "state": {
            "_model_module": "@jupyter-widgets/controls",
            "_model_module_version": "1.5.0",
            "_model_name": "DescriptionStyleModel",
            "_view_count": null,
            "_view_module": "@jupyter-widgets/base",
            "_view_module_version": "1.2.0",
            "_view_name": "StyleView",
            "description_width": ""
          }
        },
        "e174d8e6c344412d825d39f43072ecd3": {
          "model_module": "@jupyter-widgets/base",
          "model_name": "LayoutModel",
          "model_module_version": "1.2.0",
          "state": {
            "_model_module": "@jupyter-widgets/base",
            "_model_module_version": "1.2.0",
            "_model_name": "LayoutModel",
            "_view_count": null,
            "_view_module": "@jupyter-widgets/base",
            "_view_module_version": "1.2.0",
            "_view_name": "LayoutView",
            "align_content": null,
            "align_items": null,
            "align_self": null,
            "border": null,
            "bottom": null,
            "display": null,
            "flex": null,
            "flex_flow": null,
            "grid_area": null,
            "grid_auto_columns": null,
            "grid_auto_flow": null,
            "grid_auto_rows": null,
            "grid_column": null,
            "grid_gap": null,
            "grid_row": null,
            "grid_template_areas": null,
            "grid_template_columns": null,
            "grid_template_rows": null,
            "height": null,
            "justify_content": null,
            "justify_items": null,
            "left": null,
            "margin": null,
            "max_height": null,
            "max_width": null,
            "min_height": null,
            "min_width": null,
            "object_fit": null,
            "object_position": null,
            "order": null,
            "overflow": null,
            "overflow_x": null,
            "overflow_y": null,
            "padding": null,
            "right": null,
            "top": null,
            "visibility": null,
            "width": null
          }
        },
        "8e99f3ac3abe4f0dbdfbc4779a8842a3": {
          "model_module": "@jupyter-widgets/controls",
          "model_name": "ProgressStyleModel",
          "model_module_version": "1.5.0",
          "state": {
            "_model_module": "@jupyter-widgets/controls",
            "_model_module_version": "1.5.0",
            "_model_name": "ProgressStyleModel",
            "_view_count": null,
            "_view_module": "@jupyter-widgets/base",
            "_view_module_version": "1.2.0",
            "_view_name": "StyleView",
            "bar_color": null,
            "description_width": ""
          }
        },
        "a76340bc1040478fbcac84750f8dac9b": {
          "model_module": "@jupyter-widgets/base",
          "model_name": "LayoutModel",
          "model_module_version": "1.2.0",
          "state": {
            "_model_module": "@jupyter-widgets/base",
            "_model_module_version": "1.2.0",
            "_model_name": "LayoutModel",
            "_view_count": null,
            "_view_module": "@jupyter-widgets/base",
            "_view_module_version": "1.2.0",
            "_view_name": "LayoutView",
            "align_content": null,
            "align_items": null,
            "align_self": null,
            "border": null,
            "bottom": null,
            "display": null,
            "flex": null,
            "flex_flow": null,
            "grid_area": null,
            "grid_auto_columns": null,
            "grid_auto_flow": null,
            "grid_auto_rows": null,
            "grid_column": null,
            "grid_gap": null,
            "grid_row": null,
            "grid_template_areas": null,
            "grid_template_columns": null,
            "grid_template_rows": null,
            "height": null,
            "justify_content": null,
            "justify_items": null,
            "left": null,
            "margin": null,
            "max_height": null,
            "max_width": null,
            "min_height": null,
            "min_width": null,
            "object_fit": null,
            "object_position": null,
            "order": null,
            "overflow": null,
            "overflow_x": null,
            "overflow_y": null,
            "padding": null,
            "right": null,
            "top": null,
            "visibility": null,
            "width": null
          }
        },
        "5edce6f8349c46f8b8eda1d3b583a2c1": {
          "model_module": "@jupyter-widgets/controls",
          "model_name": "DescriptionStyleModel",
          "model_module_version": "1.5.0",
          "state": {
            "_model_module": "@jupyter-widgets/controls",
            "_model_module_version": "1.5.0",
            "_model_name": "DescriptionStyleModel",
            "_view_count": null,
            "_view_module": "@jupyter-widgets/base",
            "_view_module_version": "1.2.0",
            "_view_name": "StyleView",
            "description_width": ""
          }
        },
        "7e873b02cfec4cf796442b0c2e0a0e8d": {
          "model_module": "@jupyter-widgets/controls",
          "model_name": "HBoxModel",
          "model_module_version": "1.5.0",
          "state": {
            "_dom_classes": [],
            "_model_module": "@jupyter-widgets/controls",
            "_model_module_version": "1.5.0",
            "_model_name": "HBoxModel",
            "_view_count": null,
            "_view_module": "@jupyter-widgets/controls",
            "_view_module_version": "1.5.0",
            "_view_name": "HBoxView",
            "box_style": "",
            "children": [
              "IPY_MODEL_4955e150a0bd4b019b29927d7ab72ff3",
              "IPY_MODEL_f9d36f43c0db417990d16d5be43a4aaf",
              "IPY_MODEL_6ade99663b234a80a3f74c50456ece4a"
            ],
            "layout": "IPY_MODEL_1680c48b9e894806bed7441298ed0c16"
          }
        },
        "4955e150a0bd4b019b29927d7ab72ff3": {
          "model_module": "@jupyter-widgets/controls",
          "model_name": "HTMLModel",
          "model_module_version": "1.5.0",
          "state": {
            "_dom_classes": [],
            "_model_module": "@jupyter-widgets/controls",
            "_model_module_version": "1.5.0",
            "_model_name": "HTMLModel",
            "_view_count": null,
            "_view_module": "@jupyter-widgets/controls",
            "_view_module_version": "1.5.0",
            "_view_name": "HTMLView",
            "description": "",
            "description_tooltip": null,
            "layout": "IPY_MODEL_d3be28cfe64b4b50b5b5ab3b094ab7cc",
            "placeholder": "​",
            "style": "IPY_MODEL_3bc906a5656c4b2fb5af77fe15aaaa80",
            "value": "Processing: 100%"
          }
        },
        "f9d36f43c0db417990d16d5be43a4aaf": {
          "model_module": "@jupyter-widgets/controls",
          "model_name": "FloatProgressModel",
          "model_module_version": "1.5.0",
          "state": {
            "_dom_classes": [],
            "_model_module": "@jupyter-widgets/controls",
            "_model_module_version": "1.5.0",
            "_model_name": "FloatProgressModel",
            "_view_count": null,
            "_view_module": "@jupyter-widgets/controls",
            "_view_module_version": "1.5.0",
            "_view_name": "ProgressView",
            "bar_style": "",
            "description": "",
            "description_tooltip": null,
            "layout": "IPY_MODEL_10778c48191d45cc9327a5b4fc410a10",
            "max": 7,
            "min": 0,
            "orientation": "horizontal",
            "style": "IPY_MODEL_bc5cce082f7340afb23f5b39880d86fe",
            "value": 7
          }
        },
        "6ade99663b234a80a3f74c50456ece4a": {
          "model_module": "@jupyter-widgets/controls",
          "model_name": "HTMLModel",
          "model_module_version": "1.5.0",
          "state": {
            "_dom_classes": [],
            "_model_module": "@jupyter-widgets/controls",
            "_model_module_version": "1.5.0",
            "_model_name": "HTMLModel",
            "_view_count": null,
            "_view_module": "@jupyter-widgets/controls",
            "_view_module_version": "1.5.0",
            "_view_name": "HTMLView",
            "description": "",
            "description_tooltip": null,
            "layout": "IPY_MODEL_45705ff3d7494a6c82dced40c16ff9ee",
            "placeholder": "​",
            "style": "IPY_MODEL_d5d34fc5853341ebb5814bc559cbf14b",
            "value": " 7/7 [00:42&lt;00:00,  4.16s/it]"
          }
        },
        "1680c48b9e894806bed7441298ed0c16": {
          "model_module": "@jupyter-widgets/base",
          "model_name": "LayoutModel",
          "model_module_version": "1.2.0",
          "state": {
            "_model_module": "@jupyter-widgets/base",
            "_model_module_version": "1.2.0",
            "_model_name": "LayoutModel",
            "_view_count": null,
            "_view_module": "@jupyter-widgets/base",
            "_view_module_version": "1.2.0",
            "_view_name": "LayoutView",
            "align_content": null,
            "align_items": null,
            "align_self": null,
            "border": null,
            "bottom": null,
            "display": null,
            "flex": null,
            "flex_flow": null,
            "grid_area": null,
            "grid_auto_columns": null,
            "grid_auto_flow": null,
            "grid_auto_rows": null,
            "grid_column": null,
            "grid_gap": null,
            "grid_row": null,
            "grid_template_areas": null,
            "grid_template_columns": null,
            "grid_template_rows": null,
            "height": null,
            "justify_content": null,
            "justify_items": null,
            "left": null,
            "margin": null,
            "max_height": null,
            "max_width": null,
            "min_height": null,
            "min_width": null,
            "object_fit": null,
            "object_position": null,
            "order": null,
            "overflow": null,
            "overflow_x": null,
            "overflow_y": null,
            "padding": null,
            "right": null,
            "top": null,
            "visibility": "hidden",
            "width": null
          }
        },
        "d3be28cfe64b4b50b5b5ab3b094ab7cc": {
          "model_module": "@jupyter-widgets/base",
          "model_name": "LayoutModel",
          "model_module_version": "1.2.0",
          "state": {
            "_model_module": "@jupyter-widgets/base",
            "_model_module_version": "1.2.0",
            "_model_name": "LayoutModel",
            "_view_count": null,
            "_view_module": "@jupyter-widgets/base",
            "_view_module_version": "1.2.0",
            "_view_name": "LayoutView",
            "align_content": null,
            "align_items": null,
            "align_self": null,
            "border": null,
            "bottom": null,
            "display": null,
            "flex": null,
            "flex_flow": null,
            "grid_area": null,
            "grid_auto_columns": null,
            "grid_auto_flow": null,
            "grid_auto_rows": null,
            "grid_column": null,
            "grid_gap": null,
            "grid_row": null,
            "grid_template_areas": null,
            "grid_template_columns": null,
            "grid_template_rows": null,
            "height": null,
            "justify_content": null,
            "justify_items": null,
            "left": null,
            "margin": null,
            "max_height": null,
            "max_width": null,
            "min_height": null,
            "min_width": null,
            "object_fit": null,
            "object_position": null,
            "order": null,
            "overflow": null,
            "overflow_x": null,
            "overflow_y": null,
            "padding": null,
            "right": null,
            "top": null,
            "visibility": null,
            "width": null
          }
        },
        "3bc906a5656c4b2fb5af77fe15aaaa80": {
          "model_module": "@jupyter-widgets/controls",
          "model_name": "DescriptionStyleModel",
          "model_module_version": "1.5.0",
          "state": {
            "_model_module": "@jupyter-widgets/controls",
            "_model_module_version": "1.5.0",
            "_model_name": "DescriptionStyleModel",
            "_view_count": null,
            "_view_module": "@jupyter-widgets/base",
            "_view_module_version": "1.2.0",
            "_view_name": "StyleView",
            "description_width": ""
          }
        },
        "10778c48191d45cc9327a5b4fc410a10": {
          "model_module": "@jupyter-widgets/base",
          "model_name": "LayoutModel",
          "model_module_version": "1.2.0",
          "state": {
            "_model_module": "@jupyter-widgets/base",
            "_model_module_version": "1.2.0",
            "_model_name": "LayoutModel",
            "_view_count": null,
            "_view_module": "@jupyter-widgets/base",
            "_view_module_version": "1.2.0",
            "_view_name": "LayoutView",
            "align_content": null,
            "align_items": null,
            "align_self": null,
            "border": null,
            "bottom": null,
            "display": null,
            "flex": null,
            "flex_flow": null,
            "grid_area": null,
            "grid_auto_columns": null,
            "grid_auto_flow": null,
            "grid_auto_rows": null,
            "grid_column": null,
            "grid_gap": null,
            "grid_row": null,
            "grid_template_areas": null,
            "grid_template_columns": null,
            "grid_template_rows": null,
            "height": null,
            "justify_content": null,
            "justify_items": null,
            "left": null,
            "margin": null,
            "max_height": null,
            "max_width": null,
            "min_height": null,
            "min_width": null,
            "object_fit": null,
            "object_position": null,
            "order": null,
            "overflow": null,
            "overflow_x": null,
            "overflow_y": null,
            "padding": null,
            "right": null,
            "top": null,
            "visibility": null,
            "width": null
          }
        },
        "bc5cce082f7340afb23f5b39880d86fe": {
          "model_module": "@jupyter-widgets/controls",
          "model_name": "ProgressStyleModel",
          "model_module_version": "1.5.0",
          "state": {
            "_model_module": "@jupyter-widgets/controls",
            "_model_module_version": "1.5.0",
            "_model_name": "ProgressStyleModel",
            "_view_count": null,
            "_view_module": "@jupyter-widgets/base",
            "_view_module_version": "1.2.0",
            "_view_name": "StyleView",
            "bar_color": null,
            "description_width": ""
          }
        },
        "45705ff3d7494a6c82dced40c16ff9ee": {
          "model_module": "@jupyter-widgets/base",
          "model_name": "LayoutModel",
          "model_module_version": "1.2.0",
          "state": {
            "_model_module": "@jupyter-widgets/base",
            "_model_module_version": "1.2.0",
            "_model_name": "LayoutModel",
            "_view_count": null,
            "_view_module": "@jupyter-widgets/base",
            "_view_module_version": "1.2.0",
            "_view_name": "LayoutView",
            "align_content": null,
            "align_items": null,
            "align_self": null,
            "border": null,
            "bottom": null,
            "display": null,
            "flex": null,
            "flex_flow": null,
            "grid_area": null,
            "grid_auto_columns": null,
            "grid_auto_flow": null,
            "grid_auto_rows": null,
            "grid_column": null,
            "grid_gap": null,
            "grid_row": null,
            "grid_template_areas": null,
            "grid_template_columns": null,
            "grid_template_rows": null,
            "height": null,
            "justify_content": null,
            "justify_items": null,
            "left": null,
            "margin": null,
            "max_height": null,
            "max_width": null,
            "min_height": null,
            "min_width": null,
            "object_fit": null,
            "object_position": null,
            "order": null,
            "overflow": null,
            "overflow_x": null,
            "overflow_y": null,
            "padding": null,
            "right": null,
            "top": null,
            "visibility": null,
            "width": null
          }
        },
        "d5d34fc5853341ebb5814bc559cbf14b": {
          "model_module": "@jupyter-widgets/controls",
          "model_name": "DescriptionStyleModel",
          "model_module_version": "1.5.0",
          "state": {
            "_model_module": "@jupyter-widgets/controls",
            "_model_module_version": "1.5.0",
            "_model_name": "DescriptionStyleModel",
            "_view_count": null,
            "_view_module": "@jupyter-widgets/base",
            "_view_module_version": "1.2.0",
            "_view_name": "StyleView",
            "description_width": ""
          }
        }
      }
    }
  },
  "cells": [
    {
      "cell_type": "markdown",
      "metadata": {
        "id": "view-in-github",
        "colab_type": "text"
      },
      "source": [
        "<a href=\"https://colab.research.google.com/github/mauromaia071/Trabalho-dados/blob/main/Trabalho_Mauro_Maia.ipynb\" target=\"_parent\"><img src=\"https://colab.research.google.com/assets/colab-badge.svg\" alt=\"Open In Colab\"/></a>"
      ]
    },
    {
      "cell_type": "markdown",
      "source": [
        "# Analise dos microdados do Enem 2022\n",
        "\n",
        "O Enem (Exame Nacional do Ensino Médio) é uma prova anual que avalia o desempenho dos estudantes ao final do ensino médio no Brasil. A nota do Enem é usada como critério de seleção para o ingresso no ensino superior, tanto em universidades públicas (Sisu) quanto em universidades privadas (ProUni, Fies).\n",
        "Este exame gera, alem da nota, dados de fatores sociais, como situação economica do participante, estado civil e nacionalidade."
      ],
      "metadata": {
        "id": "J0pkfzSOdqNe"
      }
    },
    {
      "cell_type": "markdown",
      "source": [
        "## Objetivos"
      ],
      "metadata": {
        "id": "SEn3dwWHnCTT"
      }
    },
    {
      "cell_type": "markdown",
      "source": [
        "A partir destes dados, nesse trabalho será gerado um modelo de classificação quanto a abstenção dos candidatos a prova, a fim de responder perguntas como:\n",
        "\n",
        "\n",
        "\n",
        "*   Em qual dos dias de prova há uma maior taxa de abstenção. E qual a taxa total?\n",
        "*   A falta de acesso a recursos tecnológicos (celular, computador e internet) em casa influenciam a ausência do candidato na prova?\n",
        "*   A escolaridade do pai e da mãe influenciam a ausência do candidato na prova?\n",
        "*   A renda familiar mensal influencia a ausência do candidato na prova?\n",
        "\n",
        "*   Existe alguma diferença na taxa de abstenção entre as diferentes faixas etárias?\n",
        "*   Existe alguma diferença na taxa de abstenção entre pessoas do sexo masculino e do sexo feminino?\n",
        "*   Quais regiões apresentam as maiores e as menores taxas de abstenção?\n",
        "\n",
        "\n",
        "\n",
        "\n",
        "\n",
        "\n",
        "\n",
        "\n",
        "\n",
        "\n",
        "\n",
        "\n",
        "\n",
        "\n",
        "\n",
        "\n",
        "\n",
        "\n",
        "\n",
        "\n",
        "\n",
        "\n",
        "\n",
        "\n"
      ],
      "metadata": {
        "id": "FjOLmKlRf2DZ"
      }
    },
    {
      "cell_type": "markdown",
      "source": [
        "Para executar este projeto serão necessarias basicamente 3 etapas:\n",
        "\n",
        "1.   Seleção da base de dados e Revisão bibliográfica.\n",
        "2.   Analise exploratoria dos dados e organização da base.\n",
        "3.   Desenvolvimento do modelo e testes.\n",
        "\n",
        "\n",
        "\n",
        "\n",
        "\n",
        "\n"
      ],
      "metadata": {
        "id": "cOpy_vg3o1zE"
      }
    },
    {
      "cell_type": "markdown",
      "source": [
        "# Seleção da base de dados e Revisão bibliográfica"
      ],
      "metadata": {
        "id": "Y9INUaL9r1TE"
      }
    },
    {
      "cell_type": "markdown",
      "source": [
        "A base de dados utilizada será a base divulgada pelo proprio INEP no site Gov.br. Pode ser encontrada no site:\n",
        "\n",
        "*   https://www.gov.br/inep/pt-br/acesso-a-informacao/dados-abertos/microdados/enem\n",
        "\n",
        "\n"
      ],
      "metadata": {
        "id": "3pBNp7OgveRw"
      }
    },
    {
      "cell_type": "markdown",
      "source": [
        "É importante destacar dois artigos cientificos utilizados de referencia para a analise dos indicadores, principalmente sociais, dos microdados apresentados:\n",
        "\n",
        "*   https://www.scielo.br/j/rap/a/ZHJFnmsrdgGH8cj6xHHwbKg/\n",
        "*   http://educa.fcc.org.br/scielo.php?pid=S1676-25922015000300523&script=sci_abstract\n",
        "\n",
        "Este trabalho tem como exemplo dois repositorios do Github dos usuário Bruno Santana e Pedro Almeida disponibilizados em:\n",
        "\n",
        "*   https://github.com/Bruno-Santana-Eco/Analise-de-Dados-ENEM\n",
        "*   https://github.com/allmeidaapedro/Enem-Analysis/tree/main\n",
        "\n",
        "\n",
        "\n",
        "\n",
        "\n"
      ],
      "metadata": {
        "id": "luMKvOpdRb8F"
      }
    },
    {
      "cell_type": "markdown",
      "source": [
        "# Apresentação da Base de dados"
      ],
      "metadata": {
        "id": "fcN1XR4ncndz"
      }
    },
    {
      "cell_type": "markdown",
      "source": [
        "Nesta seção a base de dados será carregada e serão discutidas algumas caracteristicas da mesma."
      ],
      "metadata": {
        "id": "EDh60lIXcs99"
      }
    },
    {
      "cell_type": "markdown",
      "source": [
        "Em um primeiro momento será utilizada uma biblioteca de Auto Machie Learning para  analise dos dados, a biblioteca escolida foi a Pycaret:"
      ],
      "metadata": {
        "id": "xwrooXFqA9Je"
      }
    },
    {
      "cell_type": "markdown",
      "source": [
        "*   Instalar a Pycaret e carregar as bibliotecas\n",
        "\n",
        "\n",
        "\n",
        "\n"
      ],
      "metadata": {
        "id": "8jDb-ahrFVHT"
      }
    },
    {
      "cell_type": "code",
      "source": [
        "!pip install pycaret"
      ],
      "metadata": {
        "colab": {
          "base_uri": "https://localhost:8080/"
        },
        "id": "Nr_tacmREiTG",
        "outputId": "165ed087-8b69-4ac8-f8ec-c729d1a5ea75"
      },
      "execution_count": 1,
      "outputs": [
        {
          "output_type": "stream",
          "name": "stdout",
          "text": [
            "Requirement already satisfied: pycaret in /usr/local/lib/python3.11/dist-packages (3.3.2)\n",
            "Requirement already satisfied: ipython>=5.5.0 in /usr/local/lib/python3.11/dist-packages (from pycaret) (7.34.0)\n",
            "Requirement already satisfied: ipywidgets>=7.6.5 in /usr/local/lib/python3.11/dist-packages (from pycaret) (7.7.1)\n",
            "Requirement already satisfied: tqdm>=4.62.0 in /usr/local/lib/python3.11/dist-packages (from pycaret) (4.67.1)\n",
            "Requirement already satisfied: numpy<1.27,>=1.21 in /usr/local/lib/python3.11/dist-packages (from pycaret) (1.26.4)\n",
            "Requirement already satisfied: pandas<2.2.0 in /usr/local/lib/python3.11/dist-packages (from pycaret) (2.1.4)\n",
            "Requirement already satisfied: jinja2>=3 in /usr/local/lib/python3.11/dist-packages (from pycaret) (3.1.6)\n",
            "Requirement already satisfied: scipy<=1.11.4,>=1.6.1 in /usr/local/lib/python3.11/dist-packages (from pycaret) (1.11.4)\n",
            "Requirement already satisfied: joblib<1.4,>=1.2.0 in /usr/local/lib/python3.11/dist-packages (from pycaret) (1.3.2)\n",
            "Requirement already satisfied: scikit-learn>1.4.0 in /usr/local/lib/python3.11/dist-packages (from pycaret) (1.4.2)\n",
            "Requirement already satisfied: pyod>=1.1.3 in /usr/local/lib/python3.11/dist-packages (from pycaret) (2.0.4)\n",
            "Requirement already satisfied: imbalanced-learn>=0.12.0 in /usr/local/lib/python3.11/dist-packages (from pycaret) (0.13.0)\n",
            "Requirement already satisfied: category-encoders>=2.4.0 in /usr/local/lib/python3.11/dist-packages (from pycaret) (2.7.0)\n",
            "Requirement already satisfied: lightgbm>=3.0.0 in /usr/local/lib/python3.11/dist-packages (from pycaret) (4.5.0)\n",
            "Requirement already satisfied: numba>=0.55.0 in /usr/local/lib/python3.11/dist-packages (from pycaret) (0.60.0)\n",
            "Requirement already satisfied: requests>=2.27.1 in /usr/local/lib/python3.11/dist-packages (from pycaret) (2.32.3)\n",
            "Requirement already satisfied: psutil>=5.9.0 in /usr/local/lib/python3.11/dist-packages (from pycaret) (5.9.5)\n",
            "Requirement already satisfied: markupsafe>=2.0.1 in /usr/local/lib/python3.11/dist-packages (from pycaret) (3.0.2)\n",
            "Requirement already satisfied: importlib-metadata>=4.12.0 in /usr/local/lib/python3.11/dist-packages (from pycaret) (8.6.1)\n",
            "Requirement already satisfied: nbformat>=4.2.0 in /usr/local/lib/python3.11/dist-packages (from pycaret) (5.10.4)\n",
            "Requirement already satisfied: cloudpickle in /usr/local/lib/python3.11/dist-packages (from pycaret) (3.1.1)\n",
            "Requirement already satisfied: deprecation>=2.1.0 in /usr/local/lib/python3.11/dist-packages (from pycaret) (2.1.0)\n",
            "Requirement already satisfied: xxhash in /usr/local/lib/python3.11/dist-packages (from pycaret) (3.5.0)\n",
            "Requirement already satisfied: matplotlib<3.8.0 in /usr/local/lib/python3.11/dist-packages (from pycaret) (3.7.5)\n",
            "Requirement already satisfied: scikit-plot>=0.3.7 in /usr/local/lib/python3.11/dist-packages (from pycaret) (0.3.7)\n",
            "Requirement already satisfied: yellowbrick>=1.4 in /usr/local/lib/python3.11/dist-packages (from pycaret) (1.5)\n",
            "Requirement already satisfied: plotly>=5.14.0 in /usr/local/lib/python3.11/dist-packages (from pycaret) (5.24.1)\n",
            "Requirement already satisfied: kaleido>=0.2.1 in /usr/local/lib/python3.11/dist-packages (from pycaret) (0.2.1)\n",
            "Requirement already satisfied: schemdraw==0.15 in /usr/local/lib/python3.11/dist-packages (from pycaret) (0.15)\n",
            "Requirement already satisfied: plotly-resampler>=0.8.3.1 in /usr/local/lib/python3.11/dist-packages (from pycaret) (0.10.0)\n",
            "Requirement already satisfied: statsmodels>=0.12.1 in /usr/local/lib/python3.11/dist-packages (from pycaret) (0.14.4)\n",
            "Requirement already satisfied: sktime==0.26.0 in /usr/local/lib/python3.11/dist-packages (from pycaret) (0.26.0)\n",
            "Requirement already satisfied: tbats>=1.1.3 in /usr/local/lib/python3.11/dist-packages (from pycaret) (1.1.3)\n",
            "Requirement already satisfied: pmdarima>=2.0.4 in /usr/local/lib/python3.11/dist-packages (from pycaret) (2.0.4)\n",
            "Requirement already satisfied: wurlitzer in /usr/local/lib/python3.11/dist-packages (from pycaret) (3.1.1)\n",
            "Requirement already satisfied: packaging in /usr/local/lib/python3.11/dist-packages (from sktime==0.26.0->pycaret) (24.2)\n",
            "Requirement already satisfied: scikit-base<0.8.0 in /usr/local/lib/python3.11/dist-packages (from sktime==0.26.0->pycaret) (0.7.8)\n",
            "Requirement already satisfied: patsy>=0.5.1 in /usr/local/lib/python3.11/dist-packages (from category-encoders>=2.4.0->pycaret) (1.0.1)\n",
            "Requirement already satisfied: sklearn-compat<1,>=0.1 in /usr/local/lib/python3.11/dist-packages (from imbalanced-learn>=0.12.0->pycaret) (0.1.3)\n",
            "Requirement already satisfied: threadpoolctl<4,>=2.0.0 in /usr/local/lib/python3.11/dist-packages (from imbalanced-learn>=0.12.0->pycaret) (3.6.0)\n",
            "Requirement already satisfied: zipp>=3.20 in /usr/local/lib/python3.11/dist-packages (from importlib-metadata>=4.12.0->pycaret) (3.21.0)\n",
            "Requirement already satisfied: setuptools>=18.5 in /usr/local/lib/python3.11/dist-packages (from ipython>=5.5.0->pycaret) (75.2.0)\n",
            "Requirement already satisfied: jedi>=0.16 in /usr/local/lib/python3.11/dist-packages (from ipython>=5.5.0->pycaret) (0.19.2)\n",
            "Requirement already satisfied: decorator in /usr/local/lib/python3.11/dist-packages (from ipython>=5.5.0->pycaret) (4.4.2)\n",
            "Requirement already satisfied: pickleshare in /usr/local/lib/python3.11/dist-packages (from ipython>=5.5.0->pycaret) (0.7.5)\n",
            "Requirement already satisfied: traitlets>=4.2 in /usr/local/lib/python3.11/dist-packages (from ipython>=5.5.0->pycaret) (5.7.1)\n",
            "Requirement already satisfied: prompt-toolkit!=3.0.0,!=3.0.1,<3.1.0,>=2.0.0 in /usr/local/lib/python3.11/dist-packages (from ipython>=5.5.0->pycaret) (3.0.51)\n",
            "Requirement already satisfied: pygments in /usr/local/lib/python3.11/dist-packages (from ipython>=5.5.0->pycaret) (2.18.0)\n",
            "Requirement already satisfied: backcall in /usr/local/lib/python3.11/dist-packages (from ipython>=5.5.0->pycaret) (0.2.0)\n",
            "Requirement already satisfied: matplotlib-inline in /usr/local/lib/python3.11/dist-packages (from ipython>=5.5.0->pycaret) (0.1.7)\n",
            "Requirement already satisfied: pexpect>4.3 in /usr/local/lib/python3.11/dist-packages (from ipython>=5.5.0->pycaret) (4.9.0)\n",
            "Requirement already satisfied: ipykernel>=4.5.1 in /usr/local/lib/python3.11/dist-packages (from ipywidgets>=7.6.5->pycaret) (6.17.1)\n",
            "Requirement already satisfied: ipython-genutils~=0.2.0 in /usr/local/lib/python3.11/dist-packages (from ipywidgets>=7.6.5->pycaret) (0.2.0)\n",
            "Requirement already satisfied: widgetsnbextension~=3.6.0 in /usr/local/lib/python3.11/dist-packages (from ipywidgets>=7.6.5->pycaret) (3.6.10)\n",
            "Requirement already satisfied: jupyterlab-widgets>=1.0.0 in /usr/local/lib/python3.11/dist-packages (from ipywidgets>=7.6.5->pycaret) (3.0.14)\n",
            "Requirement already satisfied: contourpy>=1.0.1 in /usr/local/lib/python3.11/dist-packages (from matplotlib<3.8.0->pycaret) (1.3.2)\n",
            "Requirement already satisfied: cycler>=0.10 in /usr/local/lib/python3.11/dist-packages (from matplotlib<3.8.0->pycaret) (0.12.1)\n",
            "Requirement already satisfied: fonttools>=4.22.0 in /usr/local/lib/python3.11/dist-packages (from matplotlib<3.8.0->pycaret) (4.57.0)\n",
            "Requirement already satisfied: kiwisolver>=1.0.1 in /usr/local/lib/python3.11/dist-packages (from matplotlib<3.8.0->pycaret) (1.4.8)\n",
            "Requirement already satisfied: pillow>=6.2.0 in /usr/local/lib/python3.11/dist-packages (from matplotlib<3.8.0->pycaret) (11.1.0)\n",
            "Requirement already satisfied: pyparsing>=2.3.1 in /usr/local/lib/python3.11/dist-packages (from matplotlib<3.8.0->pycaret) (3.2.3)\n",
            "Requirement already satisfied: python-dateutil>=2.7 in /usr/local/lib/python3.11/dist-packages (from matplotlib<3.8.0->pycaret) (2.8.2)\n",
            "Requirement already satisfied: fastjsonschema>=2.15 in /usr/local/lib/python3.11/dist-packages (from nbformat>=4.2.0->pycaret) (2.21.1)\n",
            "Requirement already satisfied: jsonschema>=2.6 in /usr/local/lib/python3.11/dist-packages (from nbformat>=4.2.0->pycaret) (4.23.0)\n",
            "Requirement already satisfied: jupyter-core!=5.0.*,>=4.12 in /usr/local/lib/python3.11/dist-packages (from nbformat>=4.2.0->pycaret) (5.7.2)\n",
            "Requirement already satisfied: llvmlite<0.44,>=0.43.0dev0 in /usr/local/lib/python3.11/dist-packages (from numba>=0.55.0->pycaret) (0.43.0)\n",
            "Requirement already satisfied: pytz>=2020.1 in /usr/local/lib/python3.11/dist-packages (from pandas<2.2.0->pycaret) (2025.2)\n",
            "Requirement already satisfied: tzdata>=2022.1 in /usr/local/lib/python3.11/dist-packages (from pandas<2.2.0->pycaret) (2025.2)\n",
            "Requirement already satisfied: tenacity>=6.2.0 in /usr/local/lib/python3.11/dist-packages (from plotly>=5.14.0->pycaret) (9.1.2)\n",
            "Requirement already satisfied: dash>=2.9.0 in /usr/local/lib/python3.11/dist-packages (from plotly-resampler>=0.8.3.1->pycaret) (3.0.3)\n",
            "Requirement already satisfied: orjson<4.0.0,>=3.8.0 in /usr/local/lib/python3.11/dist-packages (from plotly-resampler>=0.8.3.1->pycaret) (3.10.16)\n",
            "Requirement already satisfied: tsdownsample>=0.1.3 in /usr/local/lib/python3.11/dist-packages (from plotly-resampler>=0.8.3.1->pycaret) (0.1.4.1)\n",
            "Requirement already satisfied: Cython!=0.29.18,!=0.29.31,>=0.29 in /usr/local/lib/python3.11/dist-packages (from pmdarima>=2.0.4->pycaret) (3.0.12)\n",
            "Requirement already satisfied: urllib3 in /usr/local/lib/python3.11/dist-packages (from pmdarima>=2.0.4->pycaret) (2.3.0)\n",
            "Requirement already satisfied: charset-normalizer<4,>=2 in /usr/local/lib/python3.11/dist-packages (from requests>=2.27.1->pycaret) (3.4.1)\n",
            "Requirement already satisfied: idna<4,>=2.5 in /usr/local/lib/python3.11/dist-packages (from requests>=2.27.1->pycaret) (3.10)\n",
            "Requirement already satisfied: certifi>=2017.4.17 in /usr/local/lib/python3.11/dist-packages (from requests>=2.27.1->pycaret) (2025.1.31)\n",
            "Requirement already satisfied: Flask<3.1,>=1.0.4 in /usr/local/lib/python3.11/dist-packages (from dash>=2.9.0->plotly-resampler>=0.8.3.1->pycaret) (3.0.3)\n",
            "Requirement already satisfied: Werkzeug<3.1 in /usr/local/lib/python3.11/dist-packages (from dash>=2.9.0->plotly-resampler>=0.8.3.1->pycaret) (3.0.6)\n",
            "Requirement already satisfied: typing-extensions>=4.1.1 in /usr/local/lib/python3.11/dist-packages (from dash>=2.9.0->plotly-resampler>=0.8.3.1->pycaret) (4.13.2)\n",
            "Requirement already satisfied: retrying in /usr/local/lib/python3.11/dist-packages (from dash>=2.9.0->plotly-resampler>=0.8.3.1->pycaret) (1.3.4)\n",
            "Requirement already satisfied: nest-asyncio in /usr/local/lib/python3.11/dist-packages (from dash>=2.9.0->plotly-resampler>=0.8.3.1->pycaret) (1.6.0)\n",
            "Requirement already satisfied: debugpy>=1.0 in /usr/local/lib/python3.11/dist-packages (from ipykernel>=4.5.1->ipywidgets>=7.6.5->pycaret) (1.8.0)\n",
            "Requirement already satisfied: jupyter-client>=6.1.12 in /usr/local/lib/python3.11/dist-packages (from ipykernel>=4.5.1->ipywidgets>=7.6.5->pycaret) (6.1.12)\n",
            "Requirement already satisfied: pyzmq>=17 in /usr/local/lib/python3.11/dist-packages (from ipykernel>=4.5.1->ipywidgets>=7.6.5->pycaret) (24.0.1)\n",
            "Requirement already satisfied: tornado>=6.1 in /usr/local/lib/python3.11/dist-packages (from ipykernel>=4.5.1->ipywidgets>=7.6.5->pycaret) (6.4.2)\n",
            "Requirement already satisfied: parso<0.9.0,>=0.8.4 in /usr/local/lib/python3.11/dist-packages (from jedi>=0.16->ipython>=5.5.0->pycaret) (0.8.4)\n",
            "Requirement already satisfied: attrs>=22.2.0 in /usr/local/lib/python3.11/dist-packages (from jsonschema>=2.6->nbformat>=4.2.0->pycaret) (25.3.0)\n",
            "Requirement already satisfied: jsonschema-specifications>=2023.03.6 in /usr/local/lib/python3.11/dist-packages (from jsonschema>=2.6->nbformat>=4.2.0->pycaret) (2024.10.1)\n",
            "Requirement already satisfied: referencing>=0.28.4 in /usr/local/lib/python3.11/dist-packages (from jsonschema>=2.6->nbformat>=4.2.0->pycaret) (0.36.2)\n",
            "Requirement already satisfied: rpds-py>=0.7.1 in /usr/local/lib/python3.11/dist-packages (from jsonschema>=2.6->nbformat>=4.2.0->pycaret) (0.24.0)\n",
            "Requirement already satisfied: platformdirs>=2.5 in /usr/local/lib/python3.11/dist-packages (from jupyter-core!=5.0.*,>=4.12->nbformat>=4.2.0->pycaret) (4.3.7)\n",
            "Requirement already satisfied: ptyprocess>=0.5 in /usr/local/lib/python3.11/dist-packages (from pexpect>4.3->ipython>=5.5.0->pycaret) (0.7.0)\n",
            "Requirement already satisfied: wcwidth in /usr/local/lib/python3.11/dist-packages (from prompt-toolkit!=3.0.0,!=3.0.1,<3.1.0,>=2.0.0->ipython>=5.5.0->pycaret) (0.2.13)\n",
            "Requirement already satisfied: six>=1.5 in /usr/local/lib/python3.11/dist-packages (from python-dateutil>=2.7->matplotlib<3.8.0->pycaret) (1.17.0)\n",
            "Requirement already satisfied: notebook>=4.4.1 in /usr/local/lib/python3.11/dist-packages (from widgetsnbextension~=3.6.0->ipywidgets>=7.6.5->pycaret) (6.5.7)\n",
            "Requirement already satisfied: itsdangerous>=2.1.2 in /usr/local/lib/python3.11/dist-packages (from Flask<3.1,>=1.0.4->dash>=2.9.0->plotly-resampler>=0.8.3.1->pycaret) (2.2.0)\n",
            "Requirement already satisfied: click>=8.1.3 in /usr/local/lib/python3.11/dist-packages (from Flask<3.1,>=1.0.4->dash>=2.9.0->plotly-resampler>=0.8.3.1->pycaret) (8.1.8)\n",
            "Requirement already satisfied: blinker>=1.6.2 in /usr/local/lib/python3.11/dist-packages (from Flask<3.1,>=1.0.4->dash>=2.9.0->plotly-resampler>=0.8.3.1->pycaret) (1.9.0)\n",
            "Requirement already satisfied: argon2-cffi in /usr/local/lib/python3.11/dist-packages (from notebook>=4.4.1->widgetsnbextension~=3.6.0->ipywidgets>=7.6.5->pycaret) (23.1.0)\n",
            "Requirement already satisfied: nbconvert>=5 in /usr/local/lib/python3.11/dist-packages (from notebook>=4.4.1->widgetsnbextension~=3.6.0->ipywidgets>=7.6.5->pycaret) (7.16.6)\n",
            "Requirement already satisfied: Send2Trash>=1.8.0 in /usr/local/lib/python3.11/dist-packages (from notebook>=4.4.1->widgetsnbextension~=3.6.0->ipywidgets>=7.6.5->pycaret) (1.8.3)\n",
            "Requirement already satisfied: terminado>=0.8.3 in /usr/local/lib/python3.11/dist-packages (from notebook>=4.4.1->widgetsnbextension~=3.6.0->ipywidgets>=7.6.5->pycaret) (0.18.1)\n",
            "Requirement already satisfied: prometheus-client in /usr/local/lib/python3.11/dist-packages (from notebook>=4.4.1->widgetsnbextension~=3.6.0->ipywidgets>=7.6.5->pycaret) (0.21.1)\n",
            "Requirement already satisfied: nbclassic>=0.4.7 in /usr/local/lib/python3.11/dist-packages (from notebook>=4.4.1->widgetsnbextension~=3.6.0->ipywidgets>=7.6.5->pycaret) (1.2.0)\n",
            "Requirement already satisfied: notebook-shim>=0.2.3 in /usr/local/lib/python3.11/dist-packages (from nbclassic>=0.4.7->notebook>=4.4.1->widgetsnbextension~=3.6.0->ipywidgets>=7.6.5->pycaret) (0.2.4)\n",
            "Requirement already satisfied: beautifulsoup4 in /usr/local/lib/python3.11/dist-packages (from nbconvert>=5->notebook>=4.4.1->widgetsnbextension~=3.6.0->ipywidgets>=7.6.5->pycaret) (4.13.4)\n",
            "Requirement already satisfied: bleach!=5.0.0 in /usr/local/lib/python3.11/dist-packages (from bleach[css]!=5.0.0->nbconvert>=5->notebook>=4.4.1->widgetsnbextension~=3.6.0->ipywidgets>=7.6.5->pycaret) (6.2.0)\n",
            "Requirement already satisfied: defusedxml in /usr/local/lib/python3.11/dist-packages (from nbconvert>=5->notebook>=4.4.1->widgetsnbextension~=3.6.0->ipywidgets>=7.6.5->pycaret) (0.7.1)\n",
            "Requirement already satisfied: jupyterlab-pygments in /usr/local/lib/python3.11/dist-packages (from nbconvert>=5->notebook>=4.4.1->widgetsnbextension~=3.6.0->ipywidgets>=7.6.5->pycaret) (0.3.0)\n",
            "Requirement already satisfied: mistune<4,>=2.0.3 in /usr/local/lib/python3.11/dist-packages (from nbconvert>=5->notebook>=4.4.1->widgetsnbextension~=3.6.0->ipywidgets>=7.6.5->pycaret) (3.1.3)\n",
            "Requirement already satisfied: nbclient>=0.5.0 in /usr/local/lib/python3.11/dist-packages (from nbconvert>=5->notebook>=4.4.1->widgetsnbextension~=3.6.0->ipywidgets>=7.6.5->pycaret) (0.10.2)\n",
            "Requirement already satisfied: pandocfilters>=1.4.1 in /usr/local/lib/python3.11/dist-packages (from nbconvert>=5->notebook>=4.4.1->widgetsnbextension~=3.6.0->ipywidgets>=7.6.5->pycaret) (1.5.1)\n",
            "Requirement already satisfied: argon2-cffi-bindings in /usr/local/lib/python3.11/dist-packages (from argon2-cffi->notebook>=4.4.1->widgetsnbextension~=3.6.0->ipywidgets>=7.6.5->pycaret) (21.2.0)\n",
            "Requirement already satisfied: webencodings in /usr/local/lib/python3.11/dist-packages (from bleach!=5.0.0->bleach[css]!=5.0.0->nbconvert>=5->notebook>=4.4.1->widgetsnbextension~=3.6.0->ipywidgets>=7.6.5->pycaret) (0.5.1)\n",
            "Requirement already satisfied: tinycss2<1.5,>=1.1.0 in /usr/local/lib/python3.11/dist-packages (from bleach[css]!=5.0.0->nbconvert>=5->notebook>=4.4.1->widgetsnbextension~=3.6.0->ipywidgets>=7.6.5->pycaret) (1.4.0)\n",
            "Requirement already satisfied: jupyter-server<3,>=1.8 in /usr/local/lib/python3.11/dist-packages (from notebook-shim>=0.2.3->nbclassic>=0.4.7->notebook>=4.4.1->widgetsnbextension~=3.6.0->ipywidgets>=7.6.5->pycaret) (1.16.0)\n",
            "Requirement already satisfied: cffi>=1.0.1 in /usr/local/lib/python3.11/dist-packages (from argon2-cffi-bindings->argon2-cffi->notebook>=4.4.1->widgetsnbextension~=3.6.0->ipywidgets>=7.6.5->pycaret) (1.17.1)\n",
            "Requirement already satisfied: soupsieve>1.2 in /usr/local/lib/python3.11/dist-packages (from beautifulsoup4->nbconvert>=5->notebook>=4.4.1->widgetsnbextension~=3.6.0->ipywidgets>=7.6.5->pycaret) (2.6)\n",
            "Requirement already satisfied: pycparser in /usr/local/lib/python3.11/dist-packages (from cffi>=1.0.1->argon2-cffi-bindings->argon2-cffi->notebook>=4.4.1->widgetsnbextension~=3.6.0->ipywidgets>=7.6.5->pycaret) (2.22)\n",
            "Requirement already satisfied: anyio>=3.1.0 in /usr/local/lib/python3.11/dist-packages (from jupyter-server<3,>=1.8->notebook-shim>=0.2.3->nbclassic>=0.4.7->notebook>=4.4.1->widgetsnbextension~=3.6.0->ipywidgets>=7.6.5->pycaret) (4.9.0)\n",
            "Requirement already satisfied: websocket-client in /usr/local/lib/python3.11/dist-packages (from jupyter-server<3,>=1.8->notebook-shim>=0.2.3->nbclassic>=0.4.7->notebook>=4.4.1->widgetsnbextension~=3.6.0->ipywidgets>=7.6.5->pycaret) (1.8.0)\n",
            "Requirement already satisfied: sniffio>=1.1 in /usr/local/lib/python3.11/dist-packages (from anyio>=3.1.0->jupyter-server<3,>=1.8->notebook-shim>=0.2.3->nbclassic>=0.4.7->notebook>=4.4.1->widgetsnbextension~=3.6.0->ipywidgets>=7.6.5->pycaret) (1.3.1)\n"
          ]
        }
      ]
    },
    {
      "cell_type": "code",
      "source": [
        "import numpy as np\n",
        "import pandas as pd\n",
        "from pycaret.regression import *\n",
        "from sklearn.model_selection import train_test_split\n",
        "import pycaret\n",
        "import shap\n",
        "from pycaret.regression import *\n",
        "\n"
      ],
      "metadata": {
        "id": "RtKSCJ5sGFdM"
      },
      "execution_count": 5,
      "outputs": []
    },
    {
      "cell_type": "markdown",
      "source": [
        "# Processamento dos dados"
      ],
      "metadata": {
        "id": "UuEKRiXFH8dR"
      }
    },
    {
      "cell_type": "code",
      "source": [
        "df=pd.read_csv('MICRODADOS_ENEM_2022.csv',sep=';',encoding='ISO-8859-1')\n",
        "df.shape"
      ],
      "metadata": {
        "colab": {
          "base_uri": "https://localhost:8080/"
        },
        "id": "tUdlFlL6IBTw",
        "outputId": "601f3be6-e1b4-4f78-f0bb-5e12437a6536"
      },
      "execution_count": 6,
      "outputs": [
        {
          "output_type": "execute_result",
          "data": {
            "text/plain": [
              "(3476105, 76)"
            ]
          },
          "metadata": {},
          "execution_count": 6
        }
      ]
    },
    {
      "cell_type": "code",
      "source": [
        "df.info()"
      ],
      "metadata": {
        "colab": {
          "base_uri": "https://localhost:8080/"
        },
        "id": "tjauvAqyIp1U",
        "outputId": "a7bf8195-df27-44bf-8620-ea433c38362f"
      },
      "execution_count": 4,
      "outputs": [
        {
          "output_type": "stream",
          "name": "stdout",
          "text": [
            "<class 'pandas.core.frame.DataFrame'>\n",
            "RangeIndex: 3476105 entries, 0 to 3476104\n",
            "Data columns (total 76 columns):\n",
            " #   Column                  Dtype  \n",
            "---  ------                  -----  \n",
            " 0   NU_INSCRICAO            int64  \n",
            " 1   NU_ANO                  int64  \n",
            " 2   TP_FAIXA_ETARIA         int64  \n",
            " 3   TP_SEXO                 object \n",
            " 4   TP_ESTADO_CIVIL         int64  \n",
            " 5   TP_COR_RACA             int64  \n",
            " 6   TP_NACIONALIDADE        int64  \n",
            " 7   TP_ST_CONCLUSAO         int64  \n",
            " 8   TP_ANO_CONCLUIU         int64  \n",
            " 9   TP_ESCOLA               int64  \n",
            " 10  TP_ENSINO               float64\n",
            " 11  IN_TREINEIRO            int64  \n",
            " 12  CO_MUNICIPIO_ESC        float64\n",
            " 13  NO_MUNICIPIO_ESC        object \n",
            " 14  CO_UF_ESC               float64\n",
            " 15  SG_UF_ESC               object \n",
            " 16  TP_DEPENDENCIA_ADM_ESC  float64\n",
            " 17  TP_LOCALIZACAO_ESC      float64\n",
            " 18  TP_SIT_FUNC_ESC         float64\n",
            " 19  CO_MUNICIPIO_PROVA      int64  \n",
            " 20  NO_MUNICIPIO_PROVA      object \n",
            " 21  CO_UF_PROVA             int64  \n",
            " 22  SG_UF_PROVA             object \n",
            " 23  TP_PRESENCA_CN          int64  \n",
            " 24  TP_PRESENCA_CH          int64  \n",
            " 25  TP_PRESENCA_LC          int64  \n",
            " 26  TP_PRESENCA_MT          int64  \n",
            " 27  CO_PROVA_CN             float64\n",
            " 28  CO_PROVA_CH             float64\n",
            " 29  CO_PROVA_LC             float64\n",
            " 30  CO_PROVA_MT             float64\n",
            " 31  NU_NOTA_CN              float64\n",
            " 32  NU_NOTA_CH              float64\n",
            " 33  NU_NOTA_LC              float64\n",
            " 34  NU_NOTA_MT              float64\n",
            " 35  TX_RESPOSTAS_CN         object \n",
            " 36  TX_RESPOSTAS_CH         object \n",
            " 37  TX_RESPOSTAS_LC         object \n",
            " 38  TX_RESPOSTAS_MT         object \n",
            " 39  TP_LINGUA               int64  \n",
            " 40  TX_GABARITO_CN          object \n",
            " 41  TX_GABARITO_CH          object \n",
            " 42  TX_GABARITO_LC          object \n",
            " 43  TX_GABARITO_MT          object \n",
            " 44  TP_STATUS_REDACAO       float64\n",
            " 45  NU_NOTA_COMP1           float64\n",
            " 46  NU_NOTA_COMP2           float64\n",
            " 47  NU_NOTA_COMP3           float64\n",
            " 48  NU_NOTA_COMP4           float64\n",
            " 49  NU_NOTA_COMP5           float64\n",
            " 50  NU_NOTA_REDACAO         float64\n",
            " 51  Q001                    object \n",
            " 52  Q002                    object \n",
            " 53  Q003                    object \n",
            " 54  Q004                    object \n",
            " 55  Q005                    int64  \n",
            " 56  Q006                    object \n",
            " 57  Q007                    object \n",
            " 58  Q008                    object \n",
            " 59  Q009                    object \n",
            " 60  Q010                    object \n",
            " 61  Q011                    object \n",
            " 62  Q012                    object \n",
            " 63  Q013                    object \n",
            " 64  Q014                    object \n",
            " 65  Q015                    object \n",
            " 66  Q016                    object \n",
            " 67  Q017                    object \n",
            " 68  Q018                    object \n",
            " 69  Q019                    object \n",
            " 70  Q020                    object \n",
            " 71  Q021                    object \n",
            " 72  Q022                    object \n",
            " 73  Q023                    object \n",
            " 74  Q024                    object \n",
            " 75  Q025                    object \n",
            "dtypes: float64(21), int64(18), object(37)\n",
            "memory usage: 2.0+ GB\n"
          ]
        }
      ]
    },
    {
      "cell_type": "markdown",
      "source": [
        "Como existem muitas colunas que não serão utilizadas para essa analise basta exclui-las:"
      ],
      "metadata": {
        "id": "FLkuL0PVgD3Y"
      }
    },
    {
      "cell_type": "code",
      "source": [
        "dadosapurados = df.drop(['CO_PROVA_CN','CO_PROVA_CH','CO_PROVA_LC','CO_PROVA_MT','NU_NOTA_CN','NU_NOTA_CH','NU_NOTA_LC','NU_NOTA_MT','TX_RESPOSTAS_CN','TX_RESPOSTAS_CH','TX_RESPOSTAS_LC','TX_RESPOSTAS_MT','TP_LINGUA','TX_GABARITO_CN','TX_GABARITO_CH','TX_GABARITO_LC','TX_GABARITO_MT','TP_STATUS_REDACAO','NU_NOTA_COMP1','NU_NOTA_COMP2','NU_NOTA_COMP3','NU_NOTA_COMP4','NU_NOTA_COMP5','NU_NOTA_REDACAO','Q001','Q002','Q003','Q004','Q005','Q006','Q007','Q008','Q009','Q010','Q011','Q012','Q013','Q014','Q015','Q016','Q017','Q018','Q019','Q020','Q021','Q022','Q023','Q024','Q025'], axis =1)\n"
      ],
      "metadata": {
        "id": "43x2zSSGgYNm"
      },
      "execution_count": 9,
      "outputs": []
    },
    {
      "cell_type": "markdown",
      "source": [
        "Com os dados carregados é o momento de separa uma parte do banco de dados para treino:"
      ],
      "metadata": {
        "id": "fIFf4n4RJSj7"
      }
    },
    {
      "cell_type": "code",
      "source": [
        "train, test = train_test_split(dadosapurados, test_size=0.05, random_state=42)"
      ],
      "metadata": {
        "id": "trKHQxWHIsmJ"
      },
      "execution_count": 10,
      "outputs": []
    },
    {
      "cell_type": "markdown",
      "source": [
        "Após a definição dos dados de treino sera criado um setup para treinar os modelos e definir o parametro alvo, esse setup funciona tanto para modelos de classificação quanto de regressão:"
      ],
      "metadata": {
        "id": "eQ2juvwGKP7s"
      }
    },
    {
      "cell_type": "code",
      "source": [
        "reg = setup(data = train, target = 'TP_PRESENCA_CH', train_size=0.01)"
      ],
      "metadata": {
        "colab": {
          "base_uri": "https://localhost:8080/",
          "height": 894
        },
        "id": "lQMbcxCnKvOR",
        "outputId": "fd63a37b-c671-42d3-881a-887bdf655b91"
      },
      "execution_count": 11,
      "outputs": [
        {
          "output_type": "stream",
          "name": "stderr",
          "text": [
            "/usr/local/lib/python3.11/dist-packages/pycaret/internal/pipeline.py:111: UserWarning: Persisting input arguments took 1.06s to run.If this happens often in your code, it can cause performance problems (results will be correct in all cases). The reason for this is probably some large input arguments for a wrapped function.\n",
            "  X, y = pipeline._memory_transform(transformer, X, y)\n",
            "/usr/local/lib/python3.11/dist-packages/pycaret/internal/pipeline.py:111: UserWarning: Persisting input arguments took 4.19s to run.If this happens often in your code, it can cause performance problems (results will be correct in all cases). The reason for this is probably some large input arguments for a wrapped function.\n",
            "  X, y = pipeline._memory_transform(transformer, X, y)\n",
            "/usr/local/lib/python3.11/dist-packages/pycaret/internal/pipeline.py:111: UserWarning: Persisting input arguments took 4.33s to run.If this happens often in your code, it can cause performance problems (results will be correct in all cases). The reason for this is probably some large input arguments for a wrapped function.\n",
            "  X, y = pipeline._memory_transform(transformer, X, y)\n"
          ]
        },
        {
          "output_type": "display_data",
          "data": {
            "text/plain": [
              "<pandas.io.formats.style.Styler at 0x781b84c50450>"
            ],
            "text/html": [
              "<style type=\"text/css\">\n",
              "#T_1859d_row10_col1 {\n",
              "  background-color: lightgreen;\n",
              "}\n",
              "</style>\n",
              "<table id=\"T_1859d\" class=\"dataframe\">\n",
              "  <thead>\n",
              "    <tr>\n",
              "      <th class=\"blank level0\" >&nbsp;</th>\n",
              "      <th id=\"T_1859d_level0_col0\" class=\"col_heading level0 col0\" >Description</th>\n",
              "      <th id=\"T_1859d_level0_col1\" class=\"col_heading level0 col1\" >Value</th>\n",
              "    </tr>\n",
              "  </thead>\n",
              "  <tbody>\n",
              "    <tr>\n",
              "      <th id=\"T_1859d_level0_row0\" class=\"row_heading level0 row0\" >0</th>\n",
              "      <td id=\"T_1859d_row0_col0\" class=\"data row0 col0\" >Session id</td>\n",
              "      <td id=\"T_1859d_row0_col1\" class=\"data row0 col1\" >6598</td>\n",
              "    </tr>\n",
              "    <tr>\n",
              "      <th id=\"T_1859d_level0_row1\" class=\"row_heading level0 row1\" >1</th>\n",
              "      <td id=\"T_1859d_row1_col0\" class=\"data row1 col0\" >Target</td>\n",
              "      <td id=\"T_1859d_row1_col1\" class=\"data row1 col1\" >TP_PRESENCA_CH</td>\n",
              "    </tr>\n",
              "    <tr>\n",
              "      <th id=\"T_1859d_level0_row2\" class=\"row_heading level0 row2\" >2</th>\n",
              "      <td id=\"T_1859d_row2_col0\" class=\"data row2 col0\" >Target type</td>\n",
              "      <td id=\"T_1859d_row2_col1\" class=\"data row2 col1\" >Regression</td>\n",
              "    </tr>\n",
              "    <tr>\n",
              "      <th id=\"T_1859d_level0_row3\" class=\"row_heading level0 row3\" >3</th>\n",
              "      <td id=\"T_1859d_row3_col0\" class=\"data row3 col0\" >Original data shape</td>\n",
              "      <td id=\"T_1859d_row3_col1\" class=\"data row3 col1\" >(3302299, 27)</td>\n",
              "    </tr>\n",
              "    <tr>\n",
              "      <th id=\"T_1859d_level0_row4\" class=\"row_heading level0 row4\" >4</th>\n",
              "      <td id=\"T_1859d_row4_col0\" class=\"data row4 col0\" >Transformed data shape</td>\n",
              "      <td id=\"T_1859d_row4_col1\" class=\"data row4 col1\" >(3302299, 27)</td>\n",
              "    </tr>\n",
              "    <tr>\n",
              "      <th id=\"T_1859d_level0_row5\" class=\"row_heading level0 row5\" >5</th>\n",
              "      <td id=\"T_1859d_row5_col0\" class=\"data row5 col0\" >Transformed train set shape</td>\n",
              "      <td id=\"T_1859d_row5_col1\" class=\"data row5 col1\" >(33022, 27)</td>\n",
              "    </tr>\n",
              "    <tr>\n",
              "      <th id=\"T_1859d_level0_row6\" class=\"row_heading level0 row6\" >6</th>\n",
              "      <td id=\"T_1859d_row6_col0\" class=\"data row6 col0\" >Transformed test set shape</td>\n",
              "      <td id=\"T_1859d_row6_col1\" class=\"data row6 col1\" >(3269277, 27)</td>\n",
              "    </tr>\n",
              "    <tr>\n",
              "      <th id=\"T_1859d_level0_row7\" class=\"row_heading level0 row7\" >7</th>\n",
              "      <td id=\"T_1859d_row7_col0\" class=\"data row7 col0\" >Numeric features</td>\n",
              "      <td id=\"T_1859d_row7_col1\" class=\"data row7 col1\" >21</td>\n",
              "    </tr>\n",
              "    <tr>\n",
              "      <th id=\"T_1859d_level0_row8\" class=\"row_heading level0 row8\" >8</th>\n",
              "      <td id=\"T_1859d_row8_col0\" class=\"data row8 col0\" >Categorical features</td>\n",
              "      <td id=\"T_1859d_row8_col1\" class=\"data row8 col1\" >5</td>\n",
              "    </tr>\n",
              "    <tr>\n",
              "      <th id=\"T_1859d_level0_row9\" class=\"row_heading level0 row9\" >9</th>\n",
              "      <td id=\"T_1859d_row9_col0\" class=\"data row9 col0\" >Rows with missing values</td>\n",
              "      <td id=\"T_1859d_row9_col1\" class=\"data row9 col1\" >73.6%</td>\n",
              "    </tr>\n",
              "    <tr>\n",
              "      <th id=\"T_1859d_level0_row10\" class=\"row_heading level0 row10\" >10</th>\n",
              "      <td id=\"T_1859d_row10_col0\" class=\"data row10 col0\" >Preprocess</td>\n",
              "      <td id=\"T_1859d_row10_col1\" class=\"data row10 col1\" >True</td>\n",
              "    </tr>\n",
              "    <tr>\n",
              "      <th id=\"T_1859d_level0_row11\" class=\"row_heading level0 row11\" >11</th>\n",
              "      <td id=\"T_1859d_row11_col0\" class=\"data row11 col0\" >Imputation type</td>\n",
              "      <td id=\"T_1859d_row11_col1\" class=\"data row11 col1\" >simple</td>\n",
              "    </tr>\n",
              "    <tr>\n",
              "      <th id=\"T_1859d_level0_row12\" class=\"row_heading level0 row12\" >12</th>\n",
              "      <td id=\"T_1859d_row12_col0\" class=\"data row12 col0\" >Numeric imputation</td>\n",
              "      <td id=\"T_1859d_row12_col1\" class=\"data row12 col1\" >mean</td>\n",
              "    </tr>\n",
              "    <tr>\n",
              "      <th id=\"T_1859d_level0_row13\" class=\"row_heading level0 row13\" >13</th>\n",
              "      <td id=\"T_1859d_row13_col0\" class=\"data row13 col0\" >Categorical imputation</td>\n",
              "      <td id=\"T_1859d_row13_col1\" class=\"data row13 col1\" >mode</td>\n",
              "    </tr>\n",
              "    <tr>\n",
              "      <th id=\"T_1859d_level0_row14\" class=\"row_heading level0 row14\" >14</th>\n",
              "      <td id=\"T_1859d_row14_col0\" class=\"data row14 col0\" >Maximum one-hot encoding</td>\n",
              "      <td id=\"T_1859d_row14_col1\" class=\"data row14 col1\" >25</td>\n",
              "    </tr>\n",
              "    <tr>\n",
              "      <th id=\"T_1859d_level0_row15\" class=\"row_heading level0 row15\" >15</th>\n",
              "      <td id=\"T_1859d_row15_col0\" class=\"data row15 col0\" >Encoding method</td>\n",
              "      <td id=\"T_1859d_row15_col1\" class=\"data row15 col1\" >None</td>\n",
              "    </tr>\n",
              "    <tr>\n",
              "      <th id=\"T_1859d_level0_row16\" class=\"row_heading level0 row16\" >16</th>\n",
              "      <td id=\"T_1859d_row16_col0\" class=\"data row16 col0\" >Fold Generator</td>\n",
              "      <td id=\"T_1859d_row16_col1\" class=\"data row16 col1\" >KFold</td>\n",
              "    </tr>\n",
              "    <tr>\n",
              "      <th id=\"T_1859d_level0_row17\" class=\"row_heading level0 row17\" >17</th>\n",
              "      <td id=\"T_1859d_row17_col0\" class=\"data row17 col0\" >Fold Number</td>\n",
              "      <td id=\"T_1859d_row17_col1\" class=\"data row17 col1\" >10</td>\n",
              "    </tr>\n",
              "    <tr>\n",
              "      <th id=\"T_1859d_level0_row18\" class=\"row_heading level0 row18\" >18</th>\n",
              "      <td id=\"T_1859d_row18_col0\" class=\"data row18 col0\" >CPU Jobs</td>\n",
              "      <td id=\"T_1859d_row18_col1\" class=\"data row18 col1\" >-1</td>\n",
              "    </tr>\n",
              "    <tr>\n",
              "      <th id=\"T_1859d_level0_row19\" class=\"row_heading level0 row19\" >19</th>\n",
              "      <td id=\"T_1859d_row19_col0\" class=\"data row19 col0\" >Use GPU</td>\n",
              "      <td id=\"T_1859d_row19_col1\" class=\"data row19 col1\" >False</td>\n",
              "    </tr>\n",
              "    <tr>\n",
              "      <th id=\"T_1859d_level0_row20\" class=\"row_heading level0 row20\" >20</th>\n",
              "      <td id=\"T_1859d_row20_col0\" class=\"data row20 col0\" >Log Experiment</td>\n",
              "      <td id=\"T_1859d_row20_col1\" class=\"data row20 col1\" >False</td>\n",
              "    </tr>\n",
              "    <tr>\n",
              "      <th id=\"T_1859d_level0_row21\" class=\"row_heading level0 row21\" >21</th>\n",
              "      <td id=\"T_1859d_row21_col0\" class=\"data row21 col0\" >Experiment Name</td>\n",
              "      <td id=\"T_1859d_row21_col1\" class=\"data row21 col1\" >reg-default-name</td>\n",
              "    </tr>\n",
              "    <tr>\n",
              "      <th id=\"T_1859d_level0_row22\" class=\"row_heading level0 row22\" >22</th>\n",
              "      <td id=\"T_1859d_row22_col0\" class=\"data row22 col0\" >USI</td>\n",
              "      <td id=\"T_1859d_row22_col1\" class=\"data row22 col1\" >9722</td>\n",
              "    </tr>\n",
              "  </tbody>\n",
              "</table>\n"
            ]
          },
          "metadata": {}
        }
      ]
    },
    {
      "cell_type": "markdown",
      "source": [
        "A partir do setup a próxima etapa é treinar e comparar os modelos."
      ],
      "metadata": {
        "id": "9zC66oorpWr-"
      }
    },
    {
      "cell_type": "code",
      "source": [
        "compare_models(round=3, sort='RMSE')"
      ],
      "metadata": {
        "colab": {
          "base_uri": "https://localhost:8080/",
          "height": 762,
          "referenced_widgets": [
            "16be1f28ab694dd8b4fdbab425eb67eb",
            "592976d83f0c49e69017179d595862f9",
            "c2b7b8f26adb45aaadba6f9dfa98c0f7",
            "c6789deca21e48dc850f827d4e8bedf1",
            "819d741e39eb411697fc1a7206a2e6a0",
            "b14d77c396f045de8b0cc9bdf35aa46a",
            "eddb8a92339448739ae68833e223bf93",
            "bd697dd1fb90438590cc380a66716138",
            "037c25bf41c94c91b179d8ca84c2f7e0",
            "db5cc573c26b4b3e8e4f2c7e9d78c108",
            "870c522ad11c491a905b5b174092510e"
          ]
        },
        "id": "H9S6OjCAr-XU",
        "outputId": "edd2ec9d-726f-474c-c8e2-61793ad4c341"
      },
      "execution_count": 13,
      "outputs": [
        {
          "output_type": "display_data",
          "data": {
            "text/plain": [
              "<IPython.core.display.HTML object>"
            ],
            "text/html": []
          },
          "metadata": {}
        },
        {
          "output_type": "display_data",
          "data": {
            "text/plain": [
              "<pandas.io.formats.style.Styler at 0x781ae63bb110>"
            ],
            "text/html": [
              "<style type=\"text/css\">\n",
              "#T_721ed th {\n",
              "  text-align: left;\n",
              "}\n",
              "#T_721ed_row0_col0, #T_721ed_row1_col0, #T_721ed_row2_col0, #T_721ed_row3_col0, #T_721ed_row4_col0, #T_721ed_row5_col0, #T_721ed_row6_col0, #T_721ed_row7_col0, #T_721ed_row8_col0, #T_721ed_row9_col0, #T_721ed_row9_col1, #T_721ed_row9_col2, #T_721ed_row9_col3, #T_721ed_row9_col4, #T_721ed_row9_col5, #T_721ed_row9_col6, #T_721ed_row10_col0, #T_721ed_row10_col1, #T_721ed_row10_col2, #T_721ed_row10_col3, #T_721ed_row10_col4, #T_721ed_row10_col5, #T_721ed_row10_col6, #T_721ed_row11_col0, #T_721ed_row11_col1, #T_721ed_row11_col2, #T_721ed_row11_col3, #T_721ed_row11_col4, #T_721ed_row11_col5, #T_721ed_row11_col6, #T_721ed_row12_col0, #T_721ed_row12_col1, #T_721ed_row12_col2, #T_721ed_row12_col3, #T_721ed_row12_col4, #T_721ed_row12_col5, #T_721ed_row12_col6, #T_721ed_row13_col0, #T_721ed_row13_col1, #T_721ed_row13_col2, #T_721ed_row13_col3, #T_721ed_row13_col4, #T_721ed_row13_col5, #T_721ed_row13_col6, #T_721ed_row14_col0, #T_721ed_row14_col1, #T_721ed_row14_col2, #T_721ed_row14_col3, #T_721ed_row14_col4, #T_721ed_row14_col5, #T_721ed_row14_col6, #T_721ed_row15_col0, #T_721ed_row15_col1, #T_721ed_row15_col2, #T_721ed_row15_col3, #T_721ed_row15_col4, #T_721ed_row15_col5, #T_721ed_row15_col6, #T_721ed_row16_col0, #T_721ed_row16_col1, #T_721ed_row16_col2, #T_721ed_row16_col3, #T_721ed_row16_col4, #T_721ed_row16_col5, #T_721ed_row16_col6, #T_721ed_row17_col0, #T_721ed_row17_col1, #T_721ed_row17_col2, #T_721ed_row17_col3, #T_721ed_row17_col4, #T_721ed_row17_col5, #T_721ed_row17_col6, #T_721ed_row18_col0, #T_721ed_row18_col1, #T_721ed_row18_col2, #T_721ed_row18_col3, #T_721ed_row18_col4, #T_721ed_row18_col5, #T_721ed_row18_col6 {\n",
              "  text-align: left;\n",
              "}\n",
              "#T_721ed_row0_col1, #T_721ed_row0_col2, #T_721ed_row0_col3, #T_721ed_row0_col4, #T_721ed_row0_col5, #T_721ed_row0_col6, #T_721ed_row1_col1, #T_721ed_row1_col2, #T_721ed_row1_col3, #T_721ed_row1_col4, #T_721ed_row1_col5, #T_721ed_row1_col6, #T_721ed_row2_col1, #T_721ed_row2_col2, #T_721ed_row2_col3, #T_721ed_row2_col4, #T_721ed_row2_col5, #T_721ed_row2_col6, #T_721ed_row3_col1, #T_721ed_row3_col2, #T_721ed_row3_col3, #T_721ed_row3_col4, #T_721ed_row3_col5, #T_721ed_row3_col6, #T_721ed_row4_col1, #T_721ed_row4_col2, #T_721ed_row4_col3, #T_721ed_row4_col4, #T_721ed_row4_col5, #T_721ed_row4_col6, #T_721ed_row5_col1, #T_721ed_row5_col2, #T_721ed_row5_col3, #T_721ed_row5_col4, #T_721ed_row5_col5, #T_721ed_row5_col6, #T_721ed_row6_col1, #T_721ed_row6_col2, #T_721ed_row6_col3, #T_721ed_row6_col4, #T_721ed_row6_col5, #T_721ed_row6_col6, #T_721ed_row7_col1, #T_721ed_row7_col2, #T_721ed_row7_col3, #T_721ed_row7_col4, #T_721ed_row7_col5, #T_721ed_row7_col6, #T_721ed_row8_col1, #T_721ed_row8_col2, #T_721ed_row8_col3, #T_721ed_row8_col4, #T_721ed_row8_col5, #T_721ed_row8_col6 {\n",
              "  text-align: left;\n",
              "  background-color: yellow;\n",
              "}\n",
              "#T_721ed_row0_col7, #T_721ed_row1_col7, #T_721ed_row3_col7, #T_721ed_row4_col7, #T_721ed_row5_col7, #T_721ed_row6_col7, #T_721ed_row7_col7, #T_721ed_row8_col7, #T_721ed_row9_col7, #T_721ed_row10_col7, #T_721ed_row11_col7, #T_721ed_row12_col7, #T_721ed_row13_col7, #T_721ed_row14_col7, #T_721ed_row15_col7, #T_721ed_row16_col7, #T_721ed_row17_col7, #T_721ed_row18_col7 {\n",
              "  text-align: left;\n",
              "  background-color: lightgrey;\n",
              "}\n",
              "#T_721ed_row2_col7 {\n",
              "  text-align: left;\n",
              "  background-color: yellow;\n",
              "  background-color: lightgrey;\n",
              "}\n",
              "</style>\n",
              "<table id=\"T_721ed\" class=\"dataframe\">\n",
              "  <thead>\n",
              "    <tr>\n",
              "      <th class=\"blank level0\" >&nbsp;</th>\n",
              "      <th id=\"T_721ed_level0_col0\" class=\"col_heading level0 col0\" >Model</th>\n",
              "      <th id=\"T_721ed_level0_col1\" class=\"col_heading level0 col1\" >MAE</th>\n",
              "      <th id=\"T_721ed_level0_col2\" class=\"col_heading level0 col2\" >MSE</th>\n",
              "      <th id=\"T_721ed_level0_col3\" class=\"col_heading level0 col3\" >RMSE</th>\n",
              "      <th id=\"T_721ed_level0_col4\" class=\"col_heading level0 col4\" >R2</th>\n",
              "      <th id=\"T_721ed_level0_col5\" class=\"col_heading level0 col5\" >RMSLE</th>\n",
              "      <th id=\"T_721ed_level0_col6\" class=\"col_heading level0 col6\" >MAPE</th>\n",
              "      <th id=\"T_721ed_level0_col7\" class=\"col_heading level0 col7\" >TT (Sec)</th>\n",
              "    </tr>\n",
              "  </thead>\n",
              "  <tbody>\n",
              "    <tr>\n",
              "      <th id=\"T_721ed_level0_row0\" class=\"row_heading level0 row0\" >lr</th>\n",
              "      <td id=\"T_721ed_row0_col0\" class=\"data row0 col0\" >Linear Regression</td>\n",
              "      <td id=\"T_721ed_row0_col1\" class=\"data row0 col1\" >0.000</td>\n",
              "      <td id=\"T_721ed_row0_col2\" class=\"data row0 col2\" >0.000</td>\n",
              "      <td id=\"T_721ed_row0_col3\" class=\"data row0 col3\" >0.000</td>\n",
              "      <td id=\"T_721ed_row0_col4\" class=\"data row0 col4\" >1.000</td>\n",
              "      <td id=\"T_721ed_row0_col5\" class=\"data row0 col5\" >0.000</td>\n",
              "      <td id=\"T_721ed_row0_col6\" class=\"data row0 col6\" >0.000</td>\n",
              "      <td id=\"T_721ed_row0_col7\" class=\"data row0 col7\" >1.626</td>\n",
              "    </tr>\n",
              "    <tr>\n",
              "      <th id=\"T_721ed_level0_row1\" class=\"row_heading level0 row1\" >rf</th>\n",
              "      <td id=\"T_721ed_row1_col0\" class=\"data row1 col0\" >Random Forest Regressor</td>\n",
              "      <td id=\"T_721ed_row1_col1\" class=\"data row1 col1\" >0.000</td>\n",
              "      <td id=\"T_721ed_row1_col2\" class=\"data row1 col2\" >0.000</td>\n",
              "      <td id=\"T_721ed_row1_col3\" class=\"data row1 col3\" >0.000</td>\n",
              "      <td id=\"T_721ed_row1_col4\" class=\"data row1 col4\" >1.000</td>\n",
              "      <td id=\"T_721ed_row1_col5\" class=\"data row1 col5\" >0.000</td>\n",
              "      <td id=\"T_721ed_row1_col6\" class=\"data row1 col6\" >0.000</td>\n",
              "      <td id=\"T_721ed_row1_col7\" class=\"data row1 col7\" >2.730</td>\n",
              "    </tr>\n",
              "    <tr>\n",
              "      <th id=\"T_721ed_level0_row2\" class=\"row_heading level0 row2\" >ridge</th>\n",
              "      <td id=\"T_721ed_row2_col0\" class=\"data row2 col0\" >Ridge Regression</td>\n",
              "      <td id=\"T_721ed_row2_col1\" class=\"data row2 col1\" >0.000</td>\n",
              "      <td id=\"T_721ed_row2_col2\" class=\"data row2 col2\" >0.000</td>\n",
              "      <td id=\"T_721ed_row2_col3\" class=\"data row2 col3\" >0.000</td>\n",
              "      <td id=\"T_721ed_row2_col4\" class=\"data row2 col4\" >1.000</td>\n",
              "      <td id=\"T_721ed_row2_col5\" class=\"data row2 col5\" >0.000</td>\n",
              "      <td id=\"T_721ed_row2_col6\" class=\"data row2 col6\" >0.000</td>\n",
              "      <td id=\"T_721ed_row2_col7\" class=\"data row2 col7\" >0.314</td>\n",
              "    </tr>\n",
              "    <tr>\n",
              "      <th id=\"T_721ed_level0_row3\" class=\"row_heading level0 row3\" >dt</th>\n",
              "      <td id=\"T_721ed_row3_col0\" class=\"data row3 col0\" >Decision Tree Regressor</td>\n",
              "      <td id=\"T_721ed_row3_col1\" class=\"data row3 col1\" >0.000</td>\n",
              "      <td id=\"T_721ed_row3_col2\" class=\"data row3 col2\" >0.000</td>\n",
              "      <td id=\"T_721ed_row3_col3\" class=\"data row3 col3\" >0.000</td>\n",
              "      <td id=\"T_721ed_row3_col4\" class=\"data row3 col4\" >1.000</td>\n",
              "      <td id=\"T_721ed_row3_col5\" class=\"data row3 col5\" >0.000</td>\n",
              "      <td id=\"T_721ed_row3_col6\" class=\"data row3 col6\" >0.000</td>\n",
              "      <td id=\"T_721ed_row3_col7\" class=\"data row3 col7\" >0.390</td>\n",
              "    </tr>\n",
              "    <tr>\n",
              "      <th id=\"T_721ed_level0_row4\" class=\"row_heading level0 row4\" >lightgbm</th>\n",
              "      <td id=\"T_721ed_row4_col0\" class=\"data row4 col0\" >Light Gradient Boosting Machine</td>\n",
              "      <td id=\"T_721ed_row4_col1\" class=\"data row4 col1\" >0.000</td>\n",
              "      <td id=\"T_721ed_row4_col2\" class=\"data row4 col2\" >0.000</td>\n",
              "      <td id=\"T_721ed_row4_col3\" class=\"data row4 col3\" >0.000</td>\n",
              "      <td id=\"T_721ed_row4_col4\" class=\"data row4 col4\" >1.000</td>\n",
              "      <td id=\"T_721ed_row4_col5\" class=\"data row4 col5\" >0.000</td>\n",
              "      <td id=\"T_721ed_row4_col6\" class=\"data row4 col6\" >0.000</td>\n",
              "      <td id=\"T_721ed_row4_col7\" class=\"data row4 col7\" >2.956</td>\n",
              "    </tr>\n",
              "    <tr>\n",
              "      <th id=\"T_721ed_level0_row5\" class=\"row_heading level0 row5\" >et</th>\n",
              "      <td id=\"T_721ed_row5_col0\" class=\"data row5 col0\" >Extra Trees Regressor</td>\n",
              "      <td id=\"T_721ed_row5_col1\" class=\"data row5 col1\" >0.000</td>\n",
              "      <td id=\"T_721ed_row5_col2\" class=\"data row5 col2\" >0.000</td>\n",
              "      <td id=\"T_721ed_row5_col3\" class=\"data row5 col3\" >0.000</td>\n",
              "      <td id=\"T_721ed_row5_col4\" class=\"data row5 col4\" >1.000</td>\n",
              "      <td id=\"T_721ed_row5_col5\" class=\"data row5 col5\" >0.000</td>\n",
              "      <td id=\"T_721ed_row5_col6\" class=\"data row5 col6\" >0.000</td>\n",
              "      <td id=\"T_721ed_row5_col7\" class=\"data row5 col7\" >2.079</td>\n",
              "    </tr>\n",
              "    <tr>\n",
              "      <th id=\"T_721ed_level0_row6\" class=\"row_heading level0 row6\" >ada</th>\n",
              "      <td id=\"T_721ed_row6_col0\" class=\"data row6 col0\" >AdaBoost Regressor</td>\n",
              "      <td id=\"T_721ed_row6_col1\" class=\"data row6 col1\" >0.000</td>\n",
              "      <td id=\"T_721ed_row6_col2\" class=\"data row6 col2\" >0.000</td>\n",
              "      <td id=\"T_721ed_row6_col3\" class=\"data row6 col3\" >0.000</td>\n",
              "      <td id=\"T_721ed_row6_col4\" class=\"data row6 col4\" >1.000</td>\n",
              "      <td id=\"T_721ed_row6_col5\" class=\"data row6 col5\" >0.000</td>\n",
              "      <td id=\"T_721ed_row6_col6\" class=\"data row6 col6\" >0.000</td>\n",
              "      <td id=\"T_721ed_row6_col7\" class=\"data row6 col7\" >0.553</td>\n",
              "    </tr>\n",
              "    <tr>\n",
              "      <th id=\"T_721ed_level0_row7\" class=\"row_heading level0 row7\" >gbr</th>\n",
              "      <td id=\"T_721ed_row7_col0\" class=\"data row7 col0\" >Gradient Boosting Regressor</td>\n",
              "      <td id=\"T_721ed_row7_col1\" class=\"data row7 col1\" >0.000</td>\n",
              "      <td id=\"T_721ed_row7_col2\" class=\"data row7 col2\" >0.000</td>\n",
              "      <td id=\"T_721ed_row7_col3\" class=\"data row7 col3\" >0.000</td>\n",
              "      <td id=\"T_721ed_row7_col4\" class=\"data row7 col4\" >1.000</td>\n",
              "      <td id=\"T_721ed_row7_col5\" class=\"data row7 col5\" >0.000</td>\n",
              "      <td id=\"T_721ed_row7_col6\" class=\"data row7 col6\" >0.000</td>\n",
              "      <td id=\"T_721ed_row7_col7\" class=\"data row7 col7\" >4.745</td>\n",
              "    </tr>\n",
              "    <tr>\n",
              "      <th id=\"T_721ed_level0_row8\" class=\"row_heading level0 row8\" >xgboost</th>\n",
              "      <td id=\"T_721ed_row8_col0\" class=\"data row8 col0\" >Extreme Gradient Boosting</td>\n",
              "      <td id=\"T_721ed_row8_col1\" class=\"data row8 col1\" >0.000</td>\n",
              "      <td id=\"T_721ed_row8_col2\" class=\"data row8 col2\" >0.000</td>\n",
              "      <td id=\"T_721ed_row8_col3\" class=\"data row8 col3\" >0.000</td>\n",
              "      <td id=\"T_721ed_row8_col4\" class=\"data row8 col4\" >1.000</td>\n",
              "      <td id=\"T_721ed_row8_col5\" class=\"data row8 col5\" >0.000</td>\n",
              "      <td id=\"T_721ed_row8_col6\" class=\"data row8 col6\" >0.000</td>\n",
              "      <td id=\"T_721ed_row8_col7\" class=\"data row8 col7\" >0.529</td>\n",
              "    </tr>\n",
              "    <tr>\n",
              "      <th id=\"T_721ed_level0_row9\" class=\"row_heading level0 row9\" >lar</th>\n",
              "      <td id=\"T_721ed_row9_col0\" class=\"data row9 col0\" >Least Angle Regression</td>\n",
              "      <td id=\"T_721ed_row9_col1\" class=\"data row9 col1\" >0.011</td>\n",
              "      <td id=\"T_721ed_row9_col2\" class=\"data row9 col2\" >0.001</td>\n",
              "      <td id=\"T_721ed_row9_col3\" class=\"data row9 col3\" >0.019</td>\n",
              "      <td id=\"T_721ed_row9_col4\" class=\"data row9 col4\" >0.996</td>\n",
              "      <td id=\"T_721ed_row9_col5\" class=\"data row9 col5\" >0.013</td>\n",
              "      <td id=\"T_721ed_row9_col6\" class=\"data row9 col6\" >0.009</td>\n",
              "      <td id=\"T_721ed_row9_col7\" class=\"data row9 col7\" >0.705</td>\n",
              "    </tr>\n",
              "    <tr>\n",
              "      <th id=\"T_721ed_level0_row10\" class=\"row_heading level0 row10\" >br</th>\n",
              "      <td id=\"T_721ed_row10_col0\" class=\"data row10 col0\" >Bayesian Ridge</td>\n",
              "      <td id=\"T_721ed_row10_col1\" class=\"data row10 col1\" >0.016</td>\n",
              "      <td id=\"T_721ed_row10_col2\" class=\"data row10 col2\" >0.001</td>\n",
              "      <td id=\"T_721ed_row10_col3\" class=\"data row10 col3\" >0.022</td>\n",
              "      <td id=\"T_721ed_row10_col4\" class=\"data row10 col4\" >0.993</td>\n",
              "      <td id=\"T_721ed_row10_col5\" class=\"data row10 col5\" >0.015</td>\n",
              "      <td id=\"T_721ed_row10_col6\" class=\"data row10 col6\" >0.016</td>\n",
              "      <td id=\"T_721ed_row10_col7\" class=\"data row10 col7\" >0.621</td>\n",
              "    </tr>\n",
              "    <tr>\n",
              "      <th id=\"T_721ed_level0_row11\" class=\"row_heading level0 row11\" >lasso</th>\n",
              "      <td id=\"T_721ed_row11_col0\" class=\"data row11 col0\" >Lasso Regression</td>\n",
              "      <td id=\"T_721ed_row11_col1\" class=\"data row11 col1\" >0.406</td>\n",
              "      <td id=\"T_721ed_row11_col2\" class=\"data row11 col2\" >0.204</td>\n",
              "      <td id=\"T_721ed_row11_col3\" class=\"data row11 col3\" >0.452</td>\n",
              "      <td id=\"T_721ed_row11_col4\" class=\"data row11 col4\" >-0.000</td>\n",
              "      <td id=\"T_721ed_row11_col5\" class=\"data row11 col5\" >0.316</td>\n",
              "      <td id=\"T_721ed_row11_col6\" class=\"data row11 col6\" >0.281</td>\n",
              "      <td id=\"T_721ed_row11_col7\" class=\"data row11 col7\" >0.774</td>\n",
              "    </tr>\n",
              "    <tr>\n",
              "      <th id=\"T_721ed_level0_row12\" class=\"row_heading level0 row12\" >en</th>\n",
              "      <td id=\"T_721ed_row12_col0\" class=\"data row12 col0\" >Elastic Net</td>\n",
              "      <td id=\"T_721ed_row12_col1\" class=\"data row12 col1\" >0.406</td>\n",
              "      <td id=\"T_721ed_row12_col2\" class=\"data row12 col2\" >0.204</td>\n",
              "      <td id=\"T_721ed_row12_col3\" class=\"data row12 col3\" >0.452</td>\n",
              "      <td id=\"T_721ed_row12_col4\" class=\"data row12 col4\" >-0.000</td>\n",
              "      <td id=\"T_721ed_row12_col5\" class=\"data row12 col5\" >0.316</td>\n",
              "      <td id=\"T_721ed_row12_col6\" class=\"data row12 col6\" >0.281</td>\n",
              "      <td id=\"T_721ed_row12_col7\" class=\"data row12 col7\" >0.407</td>\n",
              "    </tr>\n",
              "    <tr>\n",
              "      <th id=\"T_721ed_level0_row13\" class=\"row_heading level0 row13\" >llar</th>\n",
              "      <td id=\"T_721ed_row13_col0\" class=\"data row13 col0\" >Lasso Least Angle Regression</td>\n",
              "      <td id=\"T_721ed_row13_col1\" class=\"data row13 col1\" >0.406</td>\n",
              "      <td id=\"T_721ed_row13_col2\" class=\"data row13 col2\" >0.204</td>\n",
              "      <td id=\"T_721ed_row13_col3\" class=\"data row13 col3\" >0.452</td>\n",
              "      <td id=\"T_721ed_row13_col4\" class=\"data row13 col4\" >-0.000</td>\n",
              "      <td id=\"T_721ed_row13_col5\" class=\"data row13 col5\" >0.316</td>\n",
              "      <td id=\"T_721ed_row13_col6\" class=\"data row13 col6\" >0.281</td>\n",
              "      <td id=\"T_721ed_row13_col7\" class=\"data row13 col7\" >0.424</td>\n",
              "    </tr>\n",
              "    <tr>\n",
              "      <th id=\"T_721ed_level0_row14\" class=\"row_heading level0 row14\" >omp</th>\n",
              "      <td id=\"T_721ed_row14_col0\" class=\"data row14 col0\" >Orthogonal Matching Pursuit</td>\n",
              "      <td id=\"T_721ed_row14_col1\" class=\"data row14 col1\" >0.406</td>\n",
              "      <td id=\"T_721ed_row14_col2\" class=\"data row14 col2\" >0.204</td>\n",
              "      <td id=\"T_721ed_row14_col3\" class=\"data row14 col3\" >0.452</td>\n",
              "      <td id=\"T_721ed_row14_col4\" class=\"data row14 col4\" >-0.000</td>\n",
              "      <td id=\"T_721ed_row14_col5\" class=\"data row14 col5\" >0.316</td>\n",
              "      <td id=\"T_721ed_row14_col6\" class=\"data row14 col6\" >0.281</td>\n",
              "      <td id=\"T_721ed_row14_col7\" class=\"data row14 col7\" >0.439</td>\n",
              "    </tr>\n",
              "    <tr>\n",
              "      <th id=\"T_721ed_level0_row15\" class=\"row_heading level0 row15\" >huber</th>\n",
              "      <td id=\"T_721ed_row15_col0\" class=\"data row15 col0\" >Huber Regressor</td>\n",
              "      <td id=\"T_721ed_row15_col1\" class=\"data row15 col1\" >0.406</td>\n",
              "      <td id=\"T_721ed_row15_col2\" class=\"data row15 col2\" >0.204</td>\n",
              "      <td id=\"T_721ed_row15_col3\" class=\"data row15 col3\" >0.452</td>\n",
              "      <td id=\"T_721ed_row15_col4\" class=\"data row15 col4\" >-0.000</td>\n",
              "      <td id=\"T_721ed_row15_col5\" class=\"data row15 col5\" >0.316</td>\n",
              "      <td id=\"T_721ed_row15_col6\" class=\"data row15 col6\" >0.281</td>\n",
              "      <td id=\"T_721ed_row15_col7\" class=\"data row15 col7\" >0.809</td>\n",
              "    </tr>\n",
              "    <tr>\n",
              "      <th id=\"T_721ed_level0_row16\" class=\"row_heading level0 row16\" >dummy</th>\n",
              "      <td id=\"T_721ed_row16_col0\" class=\"data row16 col0\" >Dummy Regressor</td>\n",
              "      <td id=\"T_721ed_row16_col1\" class=\"data row16 col1\" >0.406</td>\n",
              "      <td id=\"T_721ed_row16_col2\" class=\"data row16 col2\" >0.204</td>\n",
              "      <td id=\"T_721ed_row16_col3\" class=\"data row16 col3\" >0.452</td>\n",
              "      <td id=\"T_721ed_row16_col4\" class=\"data row16 col4\" >-0.000</td>\n",
              "      <td id=\"T_721ed_row16_col5\" class=\"data row16 col5\" >0.316</td>\n",
              "      <td id=\"T_721ed_row16_col6\" class=\"data row16 col6\" >0.281</td>\n",
              "      <td id=\"T_721ed_row16_col7\" class=\"data row16 col7\" >0.318</td>\n",
              "    </tr>\n",
              "    <tr>\n",
              "      <th id=\"T_721ed_level0_row17\" class=\"row_heading level0 row17\" >knn</th>\n",
              "      <td id=\"T_721ed_row17_col0\" class=\"data row17 col0\" >K Neighbors Regressor</td>\n",
              "      <td id=\"T_721ed_row17_col1\" class=\"data row17 col1\" >0.395</td>\n",
              "      <td id=\"T_721ed_row17_col2\" class=\"data row17 col2\" >0.240</td>\n",
              "      <td id=\"T_721ed_row17_col3\" class=\"data row17 col3\" >0.490</td>\n",
              "      <td id=\"T_721ed_row17_col4\" class=\"data row17 col4\" >-0.173</td>\n",
              "      <td id=\"T_721ed_row17_col5\" class=\"data row17 col5\" >0.334</td>\n",
              "      <td id=\"T_721ed_row17_col6\" class=\"data row17 col6\" >0.272</td>\n",
              "      <td id=\"T_721ed_row17_col7\" class=\"data row17 col7\" >1.180</td>\n",
              "    </tr>\n",
              "    <tr>\n",
              "      <th id=\"T_721ed_level0_row18\" class=\"row_heading level0 row18\" >par</th>\n",
              "      <td id=\"T_721ed_row18_col0\" class=\"data row18 col0\" >Passive Aggressive Regressor</td>\n",
              "      <td id=\"T_721ed_row18_col1\" class=\"data row18 col1\" >0.395</td>\n",
              "      <td id=\"T_721ed_row18_col2\" class=\"data row18 col2\" >0.305</td>\n",
              "      <td id=\"T_721ed_row18_col3\" class=\"data row18 col3\" >0.541</td>\n",
              "      <td id=\"T_721ed_row18_col4\" class=\"data row18 col4\" >-0.491</td>\n",
              "      <td id=\"T_721ed_row18_col5\" class=\"data row18 col5\" >0.376</td>\n",
              "      <td id=\"T_721ed_row18_col6\" class=\"data row18 col6\" >0.261</td>\n",
              "      <td id=\"T_721ed_row18_col7\" class=\"data row18 col7\" >0.463</td>\n",
              "    </tr>\n",
              "  </tbody>\n",
              "</table>\n"
            ]
          },
          "metadata": {}
        },
        {
          "output_type": "display_data",
          "data": {
            "text/plain": [
              "Processing:   0%|          | 0/81 [00:00<?, ?it/s]"
            ],
            "application/vnd.jupyter.widget-view+json": {
              "version_major": 2,
              "version_minor": 0,
              "model_id": "16be1f28ab694dd8b4fdbab425eb67eb"
            }
          },
          "metadata": {
            "application/vnd.jupyter.widget-view+json": {
              "colab": {
                "custom_widget_manager": {
                  "url": "https://ssl.gstatic.com/colaboratory-static/widgets/colab-cdn-widget-manager/2b70e893a8ba7c0f/manager.min.js"
                }
              }
            }
          }
        },
        {
          "output_type": "stream",
          "name": "stderr",
          "text": [
            "/usr/local/lib/python3.11/dist-packages/pycaret/internal/pycaret_experiment/supervised_experiment.py:339: FutureWarning: Styler.applymap has been deprecated. Use Styler.map instead.\n",
            "  .applymap(highlight_cols, subset=[\"TT (Sec)\"])\n"
          ]
        },
        {
          "output_type": "display_data",
          "data": {
            "text/plain": [
              "<IPython.core.display.HTML object>"
            ],
            "text/html": []
          },
          "metadata": {}
        },
        {
          "output_type": "execute_result",
          "data": {
            "text/plain": [
              "LinearRegression(n_jobs=-1)"
            ],
            "text/html": [
              "<style>#sk-container-id-2 {\n",
              "  /* Definition of color scheme common for light and dark mode */\n",
              "  --sklearn-color-text: black;\n",
              "  --sklearn-color-line: gray;\n",
              "  /* Definition of color scheme for unfitted estimators */\n",
              "  --sklearn-color-unfitted-level-0: #fff5e6;\n",
              "  --sklearn-color-unfitted-level-1: #f6e4d2;\n",
              "  --sklearn-color-unfitted-level-2: #ffe0b3;\n",
              "  --sklearn-color-unfitted-level-3: chocolate;\n",
              "  /* Definition of color scheme for fitted estimators */\n",
              "  --sklearn-color-fitted-level-0: #f0f8ff;\n",
              "  --sklearn-color-fitted-level-1: #d4ebff;\n",
              "  --sklearn-color-fitted-level-2: #b3dbfd;\n",
              "  --sklearn-color-fitted-level-3: cornflowerblue;\n",
              "\n",
              "  /* Specific color for light theme */\n",
              "  --sklearn-color-text-on-default-background: var(--sg-text-color, var(--theme-code-foreground, var(--jp-content-font-color1, black)));\n",
              "  --sklearn-color-background: var(--sg-background-color, var(--theme-background, var(--jp-layout-color0, white)));\n",
              "  --sklearn-color-border-box: var(--sg-text-color, var(--theme-code-foreground, var(--jp-content-font-color1, black)));\n",
              "  --sklearn-color-icon: #696969;\n",
              "\n",
              "  @media (prefers-color-scheme: dark) {\n",
              "    /* Redefinition of color scheme for dark theme */\n",
              "    --sklearn-color-text-on-default-background: var(--sg-text-color, var(--theme-code-foreground, var(--jp-content-font-color1, white)));\n",
              "    --sklearn-color-background: var(--sg-background-color, var(--theme-background, var(--jp-layout-color0, #111)));\n",
              "    --sklearn-color-border-box: var(--sg-text-color, var(--theme-code-foreground, var(--jp-content-font-color1, white)));\n",
              "    --sklearn-color-icon: #878787;\n",
              "  }\n",
              "}\n",
              "\n",
              "#sk-container-id-2 {\n",
              "  color: var(--sklearn-color-text);\n",
              "}\n",
              "\n",
              "#sk-container-id-2 pre {\n",
              "  padding: 0;\n",
              "}\n",
              "\n",
              "#sk-container-id-2 input.sk-hidden--visually {\n",
              "  border: 0;\n",
              "  clip: rect(1px 1px 1px 1px);\n",
              "  clip: rect(1px, 1px, 1px, 1px);\n",
              "  height: 1px;\n",
              "  margin: -1px;\n",
              "  overflow: hidden;\n",
              "  padding: 0;\n",
              "  position: absolute;\n",
              "  width: 1px;\n",
              "}\n",
              "\n",
              "#sk-container-id-2 div.sk-dashed-wrapped {\n",
              "  border: 1px dashed var(--sklearn-color-line);\n",
              "  margin: 0 0.4em 0.5em 0.4em;\n",
              "  box-sizing: border-box;\n",
              "  padding-bottom: 0.4em;\n",
              "  background-color: var(--sklearn-color-background);\n",
              "}\n",
              "\n",
              "#sk-container-id-2 div.sk-container {\n",
              "  /* jupyter's `normalize.less` sets `[hidden] { display: none; }`\n",
              "     but bootstrap.min.css set `[hidden] { display: none !important; }`\n",
              "     so we also need the `!important` here to be able to override the\n",
              "     default hidden behavior on the sphinx rendered scikit-learn.org.\n",
              "     See: https://github.com/scikit-learn/scikit-learn/issues/21755 */\n",
              "  display: inline-block !important;\n",
              "  position: relative;\n",
              "}\n",
              "\n",
              "#sk-container-id-2 div.sk-text-repr-fallback {\n",
              "  display: none;\n",
              "}\n",
              "\n",
              "div.sk-parallel-item,\n",
              "div.sk-serial,\n",
              "div.sk-item {\n",
              "  /* draw centered vertical line to link estimators */\n",
              "  background-image: linear-gradient(var(--sklearn-color-text-on-default-background), var(--sklearn-color-text-on-default-background));\n",
              "  background-size: 2px 100%;\n",
              "  background-repeat: no-repeat;\n",
              "  background-position: center center;\n",
              "}\n",
              "\n",
              "/* Parallel-specific style estimator block */\n",
              "\n",
              "#sk-container-id-2 div.sk-parallel-item::after {\n",
              "  content: \"\";\n",
              "  width: 100%;\n",
              "  border-bottom: 2px solid var(--sklearn-color-text-on-default-background);\n",
              "  flex-grow: 1;\n",
              "}\n",
              "\n",
              "#sk-container-id-2 div.sk-parallel {\n",
              "  display: flex;\n",
              "  align-items: stretch;\n",
              "  justify-content: center;\n",
              "  background-color: var(--sklearn-color-background);\n",
              "  position: relative;\n",
              "}\n",
              "\n",
              "#sk-container-id-2 div.sk-parallel-item {\n",
              "  display: flex;\n",
              "  flex-direction: column;\n",
              "}\n",
              "\n",
              "#sk-container-id-2 div.sk-parallel-item:first-child::after {\n",
              "  align-self: flex-end;\n",
              "  width: 50%;\n",
              "}\n",
              "\n",
              "#sk-container-id-2 div.sk-parallel-item:last-child::after {\n",
              "  align-self: flex-start;\n",
              "  width: 50%;\n",
              "}\n",
              "\n",
              "#sk-container-id-2 div.sk-parallel-item:only-child::after {\n",
              "  width: 0;\n",
              "}\n",
              "\n",
              "/* Serial-specific style estimator block */\n",
              "\n",
              "#sk-container-id-2 div.sk-serial {\n",
              "  display: flex;\n",
              "  flex-direction: column;\n",
              "  align-items: center;\n",
              "  background-color: var(--sklearn-color-background);\n",
              "  padding-right: 1em;\n",
              "  padding-left: 1em;\n",
              "}\n",
              "\n",
              "\n",
              "/* Toggleable style: style used for estimator/Pipeline/ColumnTransformer box that is\n",
              "clickable and can be expanded/collapsed.\n",
              "- Pipeline and ColumnTransformer use this feature and define the default style\n",
              "- Estimators will overwrite some part of the style using the `sk-estimator` class\n",
              "*/\n",
              "\n",
              "/* Pipeline and ColumnTransformer style (default) */\n",
              "\n",
              "#sk-container-id-2 div.sk-toggleable {\n",
              "  /* Default theme specific background. It is overwritten whether we have a\n",
              "  specific estimator or a Pipeline/ColumnTransformer */\n",
              "  background-color: var(--sklearn-color-background);\n",
              "}\n",
              "\n",
              "/* Toggleable label */\n",
              "#sk-container-id-2 label.sk-toggleable__label {\n",
              "  cursor: pointer;\n",
              "  display: block;\n",
              "  width: 100%;\n",
              "  margin-bottom: 0;\n",
              "  padding: 0.5em;\n",
              "  box-sizing: border-box;\n",
              "  text-align: center;\n",
              "}\n",
              "\n",
              "#sk-container-id-2 label.sk-toggleable__label-arrow:before {\n",
              "  /* Arrow on the left of the label */\n",
              "  content: \"▸\";\n",
              "  float: left;\n",
              "  margin-right: 0.25em;\n",
              "  color: var(--sklearn-color-icon);\n",
              "}\n",
              "\n",
              "#sk-container-id-2 label.sk-toggleable__label-arrow:hover:before {\n",
              "  color: var(--sklearn-color-text);\n",
              "}\n",
              "\n",
              "/* Toggleable content - dropdown */\n",
              "\n",
              "#sk-container-id-2 div.sk-toggleable__content {\n",
              "  max-height: 0;\n",
              "  max-width: 0;\n",
              "  overflow: hidden;\n",
              "  text-align: left;\n",
              "  /* unfitted */\n",
              "  background-color: var(--sklearn-color-unfitted-level-0);\n",
              "}\n",
              "\n",
              "#sk-container-id-2 div.sk-toggleable__content.fitted {\n",
              "  /* fitted */\n",
              "  background-color: var(--sklearn-color-fitted-level-0);\n",
              "}\n",
              "\n",
              "#sk-container-id-2 div.sk-toggleable__content pre {\n",
              "  margin: 0.2em;\n",
              "  border-radius: 0.25em;\n",
              "  color: var(--sklearn-color-text);\n",
              "  /* unfitted */\n",
              "  background-color: var(--sklearn-color-unfitted-level-0);\n",
              "}\n",
              "\n",
              "#sk-container-id-2 div.sk-toggleable__content.fitted pre {\n",
              "  /* unfitted */\n",
              "  background-color: var(--sklearn-color-fitted-level-0);\n",
              "}\n",
              "\n",
              "#sk-container-id-2 input.sk-toggleable__control:checked~div.sk-toggleable__content {\n",
              "  /* Expand drop-down */\n",
              "  max-height: 200px;\n",
              "  max-width: 100%;\n",
              "  overflow: auto;\n",
              "}\n",
              "\n",
              "#sk-container-id-2 input.sk-toggleable__control:checked~label.sk-toggleable__label-arrow:before {\n",
              "  content: \"▾\";\n",
              "}\n",
              "\n",
              "/* Pipeline/ColumnTransformer-specific style */\n",
              "\n",
              "#sk-container-id-2 div.sk-label input.sk-toggleable__control:checked~label.sk-toggleable__label {\n",
              "  color: var(--sklearn-color-text);\n",
              "  background-color: var(--sklearn-color-unfitted-level-2);\n",
              "}\n",
              "\n",
              "#sk-container-id-2 div.sk-label.fitted input.sk-toggleable__control:checked~label.sk-toggleable__label {\n",
              "  background-color: var(--sklearn-color-fitted-level-2);\n",
              "}\n",
              "\n",
              "/* Estimator-specific style */\n",
              "\n",
              "/* Colorize estimator box */\n",
              "#sk-container-id-2 div.sk-estimator input.sk-toggleable__control:checked~label.sk-toggleable__label {\n",
              "  /* unfitted */\n",
              "  background-color: var(--sklearn-color-unfitted-level-2);\n",
              "}\n",
              "\n",
              "#sk-container-id-2 div.sk-estimator.fitted input.sk-toggleable__control:checked~label.sk-toggleable__label {\n",
              "  /* fitted */\n",
              "  background-color: var(--sklearn-color-fitted-level-2);\n",
              "}\n",
              "\n",
              "#sk-container-id-2 div.sk-label label.sk-toggleable__label,\n",
              "#sk-container-id-2 div.sk-label label {\n",
              "  /* The background is the default theme color */\n",
              "  color: var(--sklearn-color-text-on-default-background);\n",
              "}\n",
              "\n",
              "/* On hover, darken the color of the background */\n",
              "#sk-container-id-2 div.sk-label:hover label.sk-toggleable__label {\n",
              "  color: var(--sklearn-color-text);\n",
              "  background-color: var(--sklearn-color-unfitted-level-2);\n",
              "}\n",
              "\n",
              "/* Label box, darken color on hover, fitted */\n",
              "#sk-container-id-2 div.sk-label.fitted:hover label.sk-toggleable__label.fitted {\n",
              "  color: var(--sklearn-color-text);\n",
              "  background-color: var(--sklearn-color-fitted-level-2);\n",
              "}\n",
              "\n",
              "/* Estimator label */\n",
              "\n",
              "#sk-container-id-2 div.sk-label label {\n",
              "  font-family: monospace;\n",
              "  font-weight: bold;\n",
              "  display: inline-block;\n",
              "  line-height: 1.2em;\n",
              "}\n",
              "\n",
              "#sk-container-id-2 div.sk-label-container {\n",
              "  text-align: center;\n",
              "}\n",
              "\n",
              "/* Estimator-specific */\n",
              "#sk-container-id-2 div.sk-estimator {\n",
              "  font-family: monospace;\n",
              "  border: 1px dotted var(--sklearn-color-border-box);\n",
              "  border-radius: 0.25em;\n",
              "  box-sizing: border-box;\n",
              "  margin-bottom: 0.5em;\n",
              "  /* unfitted */\n",
              "  background-color: var(--sklearn-color-unfitted-level-0);\n",
              "}\n",
              "\n",
              "#sk-container-id-2 div.sk-estimator.fitted {\n",
              "  /* fitted */\n",
              "  background-color: var(--sklearn-color-fitted-level-0);\n",
              "}\n",
              "\n",
              "/* on hover */\n",
              "#sk-container-id-2 div.sk-estimator:hover {\n",
              "  /* unfitted */\n",
              "  background-color: var(--sklearn-color-unfitted-level-2);\n",
              "}\n",
              "\n",
              "#sk-container-id-2 div.sk-estimator.fitted:hover {\n",
              "  /* fitted */\n",
              "  background-color: var(--sklearn-color-fitted-level-2);\n",
              "}\n",
              "\n",
              "/* Specification for estimator info (e.g. \"i\" and \"?\") */\n",
              "\n",
              "/* Common style for \"i\" and \"?\" */\n",
              "\n",
              ".sk-estimator-doc-link,\n",
              "a:link.sk-estimator-doc-link,\n",
              "a:visited.sk-estimator-doc-link {\n",
              "  float: right;\n",
              "  font-size: smaller;\n",
              "  line-height: 1em;\n",
              "  font-family: monospace;\n",
              "  background-color: var(--sklearn-color-background);\n",
              "  border-radius: 1em;\n",
              "  height: 1em;\n",
              "  width: 1em;\n",
              "  text-decoration: none !important;\n",
              "  margin-left: 1ex;\n",
              "  /* unfitted */\n",
              "  border: var(--sklearn-color-unfitted-level-1) 1pt solid;\n",
              "  color: var(--sklearn-color-unfitted-level-1);\n",
              "}\n",
              "\n",
              ".sk-estimator-doc-link.fitted,\n",
              "a:link.sk-estimator-doc-link.fitted,\n",
              "a:visited.sk-estimator-doc-link.fitted {\n",
              "  /* fitted */\n",
              "  border: var(--sklearn-color-fitted-level-1) 1pt solid;\n",
              "  color: var(--sklearn-color-fitted-level-1);\n",
              "}\n",
              "\n",
              "/* On hover */\n",
              "div.sk-estimator:hover .sk-estimator-doc-link:hover,\n",
              ".sk-estimator-doc-link:hover,\n",
              "div.sk-label-container:hover .sk-estimator-doc-link:hover,\n",
              ".sk-estimator-doc-link:hover {\n",
              "  /* unfitted */\n",
              "  background-color: var(--sklearn-color-unfitted-level-3);\n",
              "  color: var(--sklearn-color-background);\n",
              "  text-decoration: none;\n",
              "}\n",
              "\n",
              "div.sk-estimator.fitted:hover .sk-estimator-doc-link.fitted:hover,\n",
              ".sk-estimator-doc-link.fitted:hover,\n",
              "div.sk-label-container:hover .sk-estimator-doc-link.fitted:hover,\n",
              ".sk-estimator-doc-link.fitted:hover {\n",
              "  /* fitted */\n",
              "  background-color: var(--sklearn-color-fitted-level-3);\n",
              "  color: var(--sklearn-color-background);\n",
              "  text-decoration: none;\n",
              "}\n",
              "\n",
              "/* Span, style for the box shown on hovering the info icon */\n",
              ".sk-estimator-doc-link span {\n",
              "  display: none;\n",
              "  z-index: 9999;\n",
              "  position: relative;\n",
              "  font-weight: normal;\n",
              "  right: .2ex;\n",
              "  padding: .5ex;\n",
              "  margin: .5ex;\n",
              "  width: min-content;\n",
              "  min-width: 20ex;\n",
              "  max-width: 50ex;\n",
              "  color: var(--sklearn-color-text);\n",
              "  box-shadow: 2pt 2pt 4pt #999;\n",
              "  /* unfitted */\n",
              "  background: var(--sklearn-color-unfitted-level-0);\n",
              "  border: .5pt solid var(--sklearn-color-unfitted-level-3);\n",
              "}\n",
              "\n",
              ".sk-estimator-doc-link.fitted span {\n",
              "  /* fitted */\n",
              "  background: var(--sklearn-color-fitted-level-0);\n",
              "  border: var(--sklearn-color-fitted-level-3);\n",
              "}\n",
              "\n",
              ".sk-estimator-doc-link:hover span {\n",
              "  display: block;\n",
              "}\n",
              "\n",
              "/* \"?\"-specific style due to the `<a>` HTML tag */\n",
              "\n",
              "#sk-container-id-2 a.estimator_doc_link {\n",
              "  float: right;\n",
              "  font-size: 1rem;\n",
              "  line-height: 1em;\n",
              "  font-family: monospace;\n",
              "  background-color: var(--sklearn-color-background);\n",
              "  border-radius: 1rem;\n",
              "  height: 1rem;\n",
              "  width: 1rem;\n",
              "  text-decoration: none;\n",
              "  /* unfitted */\n",
              "  color: var(--sklearn-color-unfitted-level-1);\n",
              "  border: var(--sklearn-color-unfitted-level-1) 1pt solid;\n",
              "}\n",
              "\n",
              "#sk-container-id-2 a.estimator_doc_link.fitted {\n",
              "  /* fitted */\n",
              "  border: var(--sklearn-color-fitted-level-1) 1pt solid;\n",
              "  color: var(--sklearn-color-fitted-level-1);\n",
              "}\n",
              "\n",
              "/* On hover */\n",
              "#sk-container-id-2 a.estimator_doc_link:hover {\n",
              "  /* unfitted */\n",
              "  background-color: var(--sklearn-color-unfitted-level-3);\n",
              "  color: var(--sklearn-color-background);\n",
              "  text-decoration: none;\n",
              "}\n",
              "\n",
              "#sk-container-id-2 a.estimator_doc_link.fitted:hover {\n",
              "  /* fitted */\n",
              "  background-color: var(--sklearn-color-fitted-level-3);\n",
              "}\n",
              "</style><div id=\"sk-container-id-2\" class=\"sk-top-container\"><div class=\"sk-text-repr-fallback\"><pre>LinearRegression(n_jobs=-1)</pre><b>In a Jupyter environment, please rerun this cell to show the HTML representation or trust the notebook. <br />On GitHub, the HTML representation is unable to render, please try loading this page with nbviewer.org.</b></div><div class=\"sk-container\" hidden><div class=\"sk-item\"><div class=\"sk-estimator fitted sk-toggleable\"><input class=\"sk-toggleable__control sk-hidden--visually\" id=\"sk-estimator-id-2\" type=\"checkbox\" checked><label for=\"sk-estimator-id-2\" class=\"sk-toggleable__label fitted sk-toggleable__label-arrow fitted\">&nbsp;&nbsp;LinearRegression<a class=\"sk-estimator-doc-link fitted\" rel=\"noreferrer\" target=\"_blank\" href=\"https://scikit-learn.org/1.4/modules/generated/sklearn.linear_model.LinearRegression.html\">?<span>Documentation for LinearRegression</span></a><span class=\"sk-estimator-doc-link fitted\">i<span>Fitted</span></span></label><div class=\"sk-toggleable__content fitted\"><pre>LinearRegression(n_jobs=-1)</pre></div> </div></div></div></div>"
            ]
          },
          "metadata": {},
          "execution_count": 13
        }
      ]
    },
    {
      "cell_type": "markdown",
      "source": [
        "Com isso pode ser observa-se que alguns modelos apresentaram resultados nulos e por isso não há possibilidade de considera-los, o modelo a ser testado será Least Angle Regression (lar), a criação deste modelo vem no codigo abaixo."
      ],
      "metadata": {
        "id": "CRmJaPfgudWw"
      }
    },
    {
      "cell_type": "code",
      "source": [
        "lar = create_model('lar')"
      ],
      "metadata": {
        "colab": {
          "base_uri": "https://localhost:8080/",
          "height": 457,
          "referenced_widgets": [
            "8c3a9507caec4f83ba5ac465dd2944ca",
            "320fb9f1504b4fca937a0c7754802ae1",
            "94c8c5ca4fea455ab65cf04e49d71662",
            "97a3612a73a14e3f8b6401eedd894473",
            "6b05957c167640f8af64b3c7e3e44d53",
            "094d701ada224b1b9da3a7e2f6144018",
            "e613f91632a74900b88d4db0a7950df2",
            "e174d8e6c344412d825d39f43072ecd3",
            "8e99f3ac3abe4f0dbdfbc4779a8842a3",
            "a76340bc1040478fbcac84750f8dac9b",
            "5edce6f8349c46f8b8eda1d3b583a2c1"
          ]
        },
        "id": "w-NNzF-dvDLE",
        "outputId": "26f48db5-1b45-4174-e371-385b80d74d49"
      },
      "execution_count": 14,
      "outputs": [
        {
          "output_type": "display_data",
          "data": {
            "text/plain": [
              "<IPython.core.display.HTML object>"
            ],
            "text/html": []
          },
          "metadata": {}
        },
        {
          "output_type": "display_data",
          "data": {
            "text/plain": [
              "<pandas.io.formats.style.Styler at 0x781ae638cb50>"
            ],
            "text/html": [
              "<style type=\"text/css\">\n",
              "#T_b35ab_row10_col0, #T_b35ab_row10_col1, #T_b35ab_row10_col2, #T_b35ab_row10_col3, #T_b35ab_row10_col4, #T_b35ab_row10_col5 {\n",
              "  background: yellow;\n",
              "}\n",
              "</style>\n",
              "<table id=\"T_b35ab\" class=\"dataframe\">\n",
              "  <thead>\n",
              "    <tr>\n",
              "      <th class=\"blank level0\" >&nbsp;</th>\n",
              "      <th id=\"T_b35ab_level0_col0\" class=\"col_heading level0 col0\" >MAE</th>\n",
              "      <th id=\"T_b35ab_level0_col1\" class=\"col_heading level0 col1\" >MSE</th>\n",
              "      <th id=\"T_b35ab_level0_col2\" class=\"col_heading level0 col2\" >RMSE</th>\n",
              "      <th id=\"T_b35ab_level0_col3\" class=\"col_heading level0 col3\" >R2</th>\n",
              "      <th id=\"T_b35ab_level0_col4\" class=\"col_heading level0 col4\" >RMSLE</th>\n",
              "      <th id=\"T_b35ab_level0_col5\" class=\"col_heading level0 col5\" >MAPE</th>\n",
              "    </tr>\n",
              "    <tr>\n",
              "      <th class=\"index_name level0\" >Fold</th>\n",
              "      <th class=\"blank col0\" >&nbsp;</th>\n",
              "      <th class=\"blank col1\" >&nbsp;</th>\n",
              "      <th class=\"blank col2\" >&nbsp;</th>\n",
              "      <th class=\"blank col3\" >&nbsp;</th>\n",
              "      <th class=\"blank col4\" >&nbsp;</th>\n",
              "      <th class=\"blank col5\" >&nbsp;</th>\n",
              "    </tr>\n",
              "  </thead>\n",
              "  <tbody>\n",
              "    <tr>\n",
              "      <th id=\"T_b35ab_level0_row0\" class=\"row_heading level0 row0\" >0</th>\n",
              "      <td id=\"T_b35ab_row0_col0\" class=\"data row0 col0\" >0.0052</td>\n",
              "      <td id=\"T_b35ab_row0_col1\" class=\"data row0 col1\" >0.0001</td>\n",
              "      <td id=\"T_b35ab_row0_col2\" class=\"data row0 col2\" >0.0082</td>\n",
              "      <td id=\"T_b35ab_row0_col3\" class=\"data row0 col3\" >0.9997</td>\n",
              "      <td id=\"T_b35ab_row0_col4\" class=\"data row0 col4\" >0.0064</td>\n",
              "      <td id=\"T_b35ab_row0_col5\" class=\"data row0 col5\" >0.0044</td>\n",
              "    </tr>\n",
              "    <tr>\n",
              "      <th id=\"T_b35ab_level0_row1\" class=\"row_heading level0 row1\" >1</th>\n",
              "      <td id=\"T_b35ab_row1_col0\" class=\"data row1 col0\" >0.0055</td>\n",
              "      <td id=\"T_b35ab_row1_col1\" class=\"data row1 col1\" >0.0001</td>\n",
              "      <td id=\"T_b35ab_row1_col2\" class=\"data row1 col2\" >0.0088</td>\n",
              "      <td id=\"T_b35ab_row1_col3\" class=\"data row1 col3\" >0.9996</td>\n",
              "      <td id=\"T_b35ab_row1_col4\" class=\"data row1 col4\" >0.0069</td>\n",
              "      <td id=\"T_b35ab_row1_col5\" class=\"data row1 col5\" >0.0046</td>\n",
              "    </tr>\n",
              "    <tr>\n",
              "      <th id=\"T_b35ab_level0_row2\" class=\"row_heading level0 row2\" >2</th>\n",
              "      <td id=\"T_b35ab_row2_col0\" class=\"data row2 col0\" >0.0057</td>\n",
              "      <td id=\"T_b35ab_row2_col1\" class=\"data row2 col1\" >0.0001</td>\n",
              "      <td id=\"T_b35ab_row2_col2\" class=\"data row2 col2\" >0.0093</td>\n",
              "      <td id=\"T_b35ab_row2_col3\" class=\"data row2 col3\" >0.9996</td>\n",
              "      <td id=\"T_b35ab_row2_col4\" class=\"data row2 col4\" >0.0072</td>\n",
              "      <td id=\"T_b35ab_row2_col5\" class=\"data row2 col5\" >0.0049</td>\n",
              "    </tr>\n",
              "    <tr>\n",
              "      <th id=\"T_b35ab_level0_row3\" class=\"row_heading level0 row3\" >3</th>\n",
              "      <td id=\"T_b35ab_row3_col0\" class=\"data row3 col0\" >0.0000</td>\n",
              "      <td id=\"T_b35ab_row3_col1\" class=\"data row3 col1\" >0.0000</td>\n",
              "      <td id=\"T_b35ab_row3_col2\" class=\"data row3 col2\" >0.0000</td>\n",
              "      <td id=\"T_b35ab_row3_col3\" class=\"data row3 col3\" >1.0000</td>\n",
              "      <td id=\"T_b35ab_row3_col4\" class=\"data row3 col4\" >0.0002</td>\n",
              "      <td id=\"T_b35ab_row3_col5\" class=\"data row3 col5\" >0.0000</td>\n",
              "    </tr>\n",
              "    <tr>\n",
              "      <th id=\"T_b35ab_level0_row4\" class=\"row_heading level0 row4\" >4</th>\n",
              "      <td id=\"T_b35ab_row4_col0\" class=\"data row4 col0\" >0.0106</td>\n",
              "      <td id=\"T_b35ab_row4_col1\" class=\"data row4 col1\" >0.0003</td>\n",
              "      <td id=\"T_b35ab_row4_col2\" class=\"data row4 col2\" >0.0168</td>\n",
              "      <td id=\"T_b35ab_row4_col3\" class=\"data row4 col3\" >0.9986</td>\n",
              "      <td id=\"T_b35ab_row4_col4\" class=\"data row4 col4\" >0.0125</td>\n",
              "      <td id=\"T_b35ab_row4_col5\" class=\"data row4 col5\" >0.0093</td>\n",
              "    </tr>\n",
              "    <tr>\n",
              "      <th id=\"T_b35ab_level0_row5\" class=\"row_heading level0 row5\" >5</th>\n",
              "      <td id=\"T_b35ab_row5_col0\" class=\"data row5 col0\" >0.0054</td>\n",
              "      <td id=\"T_b35ab_row5_col1\" class=\"data row5 col1\" >0.0001</td>\n",
              "      <td id=\"T_b35ab_row5_col2\" class=\"data row5 col2\" >0.0085</td>\n",
              "      <td id=\"T_b35ab_row5_col3\" class=\"data row5 col3\" >0.9996</td>\n",
              "      <td id=\"T_b35ab_row5_col4\" class=\"data row5 col4\" >0.0064</td>\n",
              "      <td id=\"T_b35ab_row5_col5\" class=\"data row5 col5\" >0.0047</td>\n",
              "    </tr>\n",
              "    <tr>\n",
              "      <th id=\"T_b35ab_level0_row6\" class=\"row_heading level0 row6\" >6</th>\n",
              "      <td id=\"T_b35ab_row6_col0\" class=\"data row6 col0\" >0.0054</td>\n",
              "      <td id=\"T_b35ab_row6_col1\" class=\"data row6 col1\" >0.0001</td>\n",
              "      <td id=\"T_b35ab_row6_col2\" class=\"data row6 col2\" >0.0088</td>\n",
              "      <td id=\"T_b35ab_row6_col3\" class=\"data row6 col3\" >0.9996</td>\n",
              "      <td id=\"T_b35ab_row6_col4\" class=\"data row6 col4\" >0.0067</td>\n",
              "      <td id=\"T_b35ab_row6_col5\" class=\"data row6 col5\" >0.0046</td>\n",
              "    </tr>\n",
              "    <tr>\n",
              "      <th id=\"T_b35ab_level0_row7\" class=\"row_heading level0 row7\" >7</th>\n",
              "      <td id=\"T_b35ab_row7_col0\" class=\"data row7 col0\" >0.0312</td>\n",
              "      <td id=\"T_b35ab_row7_col1\" class=\"data row7 col1\" >0.0039</td>\n",
              "      <td id=\"T_b35ab_row7_col2\" class=\"data row7 col2\" >0.0622</td>\n",
              "      <td id=\"T_b35ab_row7_col3\" class=\"data row7 col3\" >0.9809</td>\n",
              "      <td id=\"T_b35ab_row7_col4\" class=\"data row7 col4\" >0.0380</td>\n",
              "      <td id=\"T_b35ab_row7_col5\" class=\"data row7 col5\" >0.0256</td>\n",
              "    </tr>\n",
              "    <tr>\n",
              "      <th id=\"T_b35ab_level0_row8\" class=\"row_heading level0 row8\" >8</th>\n",
              "      <td id=\"T_b35ab_row8_col0\" class=\"data row8 col0\" >0.0055</td>\n",
              "      <td id=\"T_b35ab_row8_col1\" class=\"data row8 col1\" >0.0001</td>\n",
              "      <td id=\"T_b35ab_row8_col2\" class=\"data row8 col2\" >0.0088</td>\n",
              "      <td id=\"T_b35ab_row8_col3\" class=\"data row8 col3\" >0.9996</td>\n",
              "      <td id=\"T_b35ab_row8_col4\" class=\"data row8 col4\" >0.0070</td>\n",
              "      <td id=\"T_b35ab_row8_col5\" class=\"data row8 col5\" >0.0046</td>\n",
              "    </tr>\n",
              "    <tr>\n",
              "      <th id=\"T_b35ab_level0_row9\" class=\"row_heading level0 row9\" >9</th>\n",
              "      <td id=\"T_b35ab_row9_col0\" class=\"data row9 col0\" >0.0319</td>\n",
              "      <td id=\"T_b35ab_row9_col1\" class=\"data row9 col1\" >0.0040</td>\n",
              "      <td id=\"T_b35ab_row9_col2\" class=\"data row9 col2\" >0.0629</td>\n",
              "      <td id=\"T_b35ab_row9_col3\" class=\"data row9 col3\" >0.9804</td>\n",
              "      <td id=\"T_b35ab_row9_col4\" class=\"data row9 col4\" >0.0374</td>\n",
              "      <td id=\"T_b35ab_row9_col5\" class=\"data row9 col5\" >0.0271</td>\n",
              "    </tr>\n",
              "    <tr>\n",
              "      <th id=\"T_b35ab_level0_row10\" class=\"row_heading level0 row10\" >Mean</th>\n",
              "      <td id=\"T_b35ab_row10_col0\" class=\"data row10 col0\" >0.0106</td>\n",
              "      <td id=\"T_b35ab_row10_col1\" class=\"data row10 col1\" >0.0009</td>\n",
              "      <td id=\"T_b35ab_row10_col2\" class=\"data row10 col2\" >0.0194</td>\n",
              "      <td id=\"T_b35ab_row10_col3\" class=\"data row10 col3\" >0.9958</td>\n",
              "      <td id=\"T_b35ab_row10_col4\" class=\"data row10 col4\" >0.0129</td>\n",
              "      <td id=\"T_b35ab_row10_col5\" class=\"data row10 col5\" >0.0090</td>\n",
              "    </tr>\n",
              "    <tr>\n",
              "      <th id=\"T_b35ab_level0_row11\" class=\"row_heading level0 row11\" >Std</th>\n",
              "      <td id=\"T_b35ab_row11_col0\" class=\"data row11 col0\" >0.0107</td>\n",
              "      <td id=\"T_b35ab_row11_col1\" class=\"data row11 col1\" >0.0015</td>\n",
              "      <td id=\"T_b35ab_row11_col2\" class=\"data row11 col2\" >0.0219</td>\n",
              "      <td id=\"T_b35ab_row11_col3\" class=\"data row11 col3\" >0.0076</td>\n",
              "      <td id=\"T_b35ab_row11_col4\" class=\"data row11 col4\" >0.0127</td>\n",
              "      <td id=\"T_b35ab_row11_col5\" class=\"data row11 col5\" >0.0089</td>\n",
              "    </tr>\n",
              "  </tbody>\n",
              "</table>\n"
            ]
          },
          "metadata": {}
        },
        {
          "output_type": "display_data",
          "data": {
            "text/plain": [
              "Processing:   0%|          | 0/4 [00:00<?, ?it/s]"
            ],
            "application/vnd.jupyter.widget-view+json": {
              "version_major": 2,
              "version_minor": 0,
              "model_id": "8c3a9507caec4f83ba5ac465dd2944ca"
            }
          },
          "metadata": {
            "application/vnd.jupyter.widget-view+json": {
              "colab": {
                "custom_widget_manager": {
                  "url": "https://ssl.gstatic.com/colaboratory-static/widgets/colab-cdn-widget-manager/2b70e893a8ba7c0f/manager.min.js"
                }
              }
            }
          }
        },
        {
          "output_type": "display_data",
          "data": {
            "text/plain": [
              "<IPython.core.display.HTML object>"
            ],
            "text/html": []
          },
          "metadata": {}
        }
      ]
    },
    {
      "cell_type": "markdown",
      "source": [
        "A biblioteca possibilita uma busca de hiperparametros a fim de melhorar o modelo"
      ],
      "metadata": {
        "id": "aXez2ET4vsdg"
      }
    },
    {
      "cell_type": "code",
      "source": [
        "lar_tuned = tune_model(lar)"
      ],
      "metadata": {
        "colab": {
          "base_uri": "https://localhost:8080/",
          "height": 474,
          "referenced_widgets": [
            "7e873b02cfec4cf796442b0c2e0a0e8d",
            "4955e150a0bd4b019b29927d7ab72ff3",
            "f9d36f43c0db417990d16d5be43a4aaf",
            "6ade99663b234a80a3f74c50456ece4a",
            "1680c48b9e894806bed7441298ed0c16",
            "d3be28cfe64b4b50b5b5ab3b094ab7cc",
            "3bc906a5656c4b2fb5af77fe15aaaa80",
            "10778c48191d45cc9327a5b4fc410a10",
            "bc5cce082f7340afb23f5b39880d86fe",
            "45705ff3d7494a6c82dced40c16ff9ee",
            "d5d34fc5853341ebb5814bc559cbf14b"
          ]
        },
        "id": "Kmrbf1gCv5o2",
        "outputId": "5dd25598-eb3a-4238-a66a-2d74cde9450d"
      },
      "execution_count": 15,
      "outputs": [
        {
          "output_type": "display_data",
          "data": {
            "text/plain": [
              "<IPython.core.display.HTML object>"
            ],
            "text/html": []
          },
          "metadata": {}
        },
        {
          "output_type": "display_data",
          "data": {
            "text/plain": [
              "<pandas.io.formats.style.Styler at 0x781ae6523150>"
            ],
            "text/html": [
              "<style type=\"text/css\">\n",
              "#T_5b94a_row10_col0, #T_5b94a_row10_col1, #T_5b94a_row10_col2, #T_5b94a_row10_col3, #T_5b94a_row10_col4, #T_5b94a_row10_col5 {\n",
              "  background: yellow;\n",
              "}\n",
              "</style>\n",
              "<table id=\"T_5b94a\" class=\"dataframe\">\n",
              "  <thead>\n",
              "    <tr>\n",
              "      <th class=\"blank level0\" >&nbsp;</th>\n",
              "      <th id=\"T_5b94a_level0_col0\" class=\"col_heading level0 col0\" >MAE</th>\n",
              "      <th id=\"T_5b94a_level0_col1\" class=\"col_heading level0 col1\" >MSE</th>\n",
              "      <th id=\"T_5b94a_level0_col2\" class=\"col_heading level0 col2\" >RMSE</th>\n",
              "      <th id=\"T_5b94a_level0_col3\" class=\"col_heading level0 col3\" >R2</th>\n",
              "      <th id=\"T_5b94a_level0_col4\" class=\"col_heading level0 col4\" >RMSLE</th>\n",
              "      <th id=\"T_5b94a_level0_col5\" class=\"col_heading level0 col5\" >MAPE</th>\n",
              "    </tr>\n",
              "    <tr>\n",
              "      <th class=\"index_name level0\" >Fold</th>\n",
              "      <th class=\"blank col0\" >&nbsp;</th>\n",
              "      <th class=\"blank col1\" >&nbsp;</th>\n",
              "      <th class=\"blank col2\" >&nbsp;</th>\n",
              "      <th class=\"blank col3\" >&nbsp;</th>\n",
              "      <th class=\"blank col4\" >&nbsp;</th>\n",
              "      <th class=\"blank col5\" >&nbsp;</th>\n",
              "    </tr>\n",
              "  </thead>\n",
              "  <tbody>\n",
              "    <tr>\n",
              "      <th id=\"T_5b94a_level0_row0\" class=\"row_heading level0 row0\" >0</th>\n",
              "      <td id=\"T_5b94a_row0_col0\" class=\"data row0 col0\" >0.0052</td>\n",
              "      <td id=\"T_5b94a_row0_col1\" class=\"data row0 col1\" >0.0001</td>\n",
              "      <td id=\"T_5b94a_row0_col2\" class=\"data row0 col2\" >0.0081</td>\n",
              "      <td id=\"T_5b94a_row0_col3\" class=\"data row0 col3\" >0.9997</td>\n",
              "      <td id=\"T_5b94a_row0_col4\" class=\"data row0 col4\" >0.0064</td>\n",
              "      <td id=\"T_5b94a_row0_col5\" class=\"data row0 col5\" >0.0044</td>\n",
              "    </tr>\n",
              "    <tr>\n",
              "      <th id=\"T_5b94a_level0_row1\" class=\"row_heading level0 row1\" >1</th>\n",
              "      <td id=\"T_5b94a_row1_col0\" class=\"data row1 col0\" >0.0055</td>\n",
              "      <td id=\"T_5b94a_row1_col1\" class=\"data row1 col1\" >0.0001</td>\n",
              "      <td id=\"T_5b94a_row1_col2\" class=\"data row1 col2\" >0.0088</td>\n",
              "      <td id=\"T_5b94a_row1_col3\" class=\"data row1 col3\" >0.9996</td>\n",
              "      <td id=\"T_5b94a_row1_col4\" class=\"data row1 col4\" >0.0069</td>\n",
              "      <td id=\"T_5b94a_row1_col5\" class=\"data row1 col5\" >0.0046</td>\n",
              "    </tr>\n",
              "    <tr>\n",
              "      <th id=\"T_5b94a_level0_row2\" class=\"row_heading level0 row2\" >2</th>\n",
              "      <td id=\"T_5b94a_row2_col0\" class=\"data row2 col0\" >0.0058</td>\n",
              "      <td id=\"T_5b94a_row2_col1\" class=\"data row2 col1\" >0.0001</td>\n",
              "      <td id=\"T_5b94a_row2_col2\" class=\"data row2 col2\" >0.0093</td>\n",
              "      <td id=\"T_5b94a_row2_col3\" class=\"data row2 col3\" >0.9996</td>\n",
              "      <td id=\"T_5b94a_row2_col4\" class=\"data row2 col4\" >0.0072</td>\n",
              "      <td id=\"T_5b94a_row2_col5\" class=\"data row2 col5\" >0.0049</td>\n",
              "    </tr>\n",
              "    <tr>\n",
              "      <th id=\"T_5b94a_level0_row3\" class=\"row_heading level0 row3\" >3</th>\n",
              "      <td id=\"T_5b94a_row3_col0\" class=\"data row3 col0\" >0.0000</td>\n",
              "      <td id=\"T_5b94a_row3_col1\" class=\"data row3 col1\" >0.0000</td>\n",
              "      <td id=\"T_5b94a_row3_col2\" class=\"data row3 col2\" >0.0000</td>\n",
              "      <td id=\"T_5b94a_row3_col3\" class=\"data row3 col3\" >1.0000</td>\n",
              "      <td id=\"T_5b94a_row3_col4\" class=\"data row3 col4\" >0.0002</td>\n",
              "      <td id=\"T_5b94a_row3_col5\" class=\"data row3 col5\" >0.0000</td>\n",
              "    </tr>\n",
              "    <tr>\n",
              "      <th id=\"T_5b94a_level0_row4\" class=\"row_heading level0 row4\" >4</th>\n",
              "      <td id=\"T_5b94a_row4_col0\" class=\"data row4 col0\" >0.0053</td>\n",
              "      <td id=\"T_5b94a_row4_col1\" class=\"data row4 col1\" >0.0001</td>\n",
              "      <td id=\"T_5b94a_row4_col2\" class=\"data row4 col2\" >0.0084</td>\n",
              "      <td id=\"T_5b94a_row4_col3\" class=\"data row4 col3\" >0.9997</td>\n",
              "      <td id=\"T_5b94a_row4_col4\" class=\"data row4 col4\" >0.0063</td>\n",
              "      <td id=\"T_5b94a_row4_col5\" class=\"data row4 col5\" >0.0047</td>\n",
              "    </tr>\n",
              "    <tr>\n",
              "      <th id=\"T_5b94a_level0_row5\" class=\"row_heading level0 row5\" >5</th>\n",
              "      <td id=\"T_5b94a_row5_col0\" class=\"data row5 col0\" >0.0054</td>\n",
              "      <td id=\"T_5b94a_row5_col1\" class=\"data row5 col1\" >0.0001</td>\n",
              "      <td id=\"T_5b94a_row5_col2\" class=\"data row5 col2\" >0.0085</td>\n",
              "      <td id=\"T_5b94a_row5_col3\" class=\"data row5 col3\" >0.9996</td>\n",
              "      <td id=\"T_5b94a_row5_col4\" class=\"data row5 col4\" >0.0064</td>\n",
              "      <td id=\"T_5b94a_row5_col5\" class=\"data row5 col5\" >0.0047</td>\n",
              "    </tr>\n",
              "    <tr>\n",
              "      <th id=\"T_5b94a_level0_row6\" class=\"row_heading level0 row6\" >6</th>\n",
              "      <td id=\"T_5b94a_row6_col0\" class=\"data row6 col0\" >0.0054</td>\n",
              "      <td id=\"T_5b94a_row6_col1\" class=\"data row6 col1\" >0.0001</td>\n",
              "      <td id=\"T_5b94a_row6_col2\" class=\"data row6 col2\" >0.0088</td>\n",
              "      <td id=\"T_5b94a_row6_col3\" class=\"data row6 col3\" >0.9996</td>\n",
              "      <td id=\"T_5b94a_row6_col4\" class=\"data row6 col4\" >0.0067</td>\n",
              "      <td id=\"T_5b94a_row6_col5\" class=\"data row6 col5\" >0.0046</td>\n",
              "    </tr>\n",
              "    <tr>\n",
              "      <th id=\"T_5b94a_level0_row7\" class=\"row_heading level0 row7\" >7</th>\n",
              "      <td id=\"T_5b94a_row7_col0\" class=\"data row7 col0\" >0.0054</td>\n",
              "      <td id=\"T_5b94a_row7_col1\" class=\"data row7 col1\" >0.0001</td>\n",
              "      <td id=\"T_5b94a_row7_col2\" class=\"data row7 col2\" >0.0085</td>\n",
              "      <td id=\"T_5b94a_row7_col3\" class=\"data row7 col3\" >0.9996</td>\n",
              "      <td id=\"T_5b94a_row7_col4\" class=\"data row7 col4\" >0.0066</td>\n",
              "      <td id=\"T_5b94a_row7_col5\" class=\"data row7 col5\" >0.0045</td>\n",
              "    </tr>\n",
              "    <tr>\n",
              "      <th id=\"T_5b94a_level0_row8\" class=\"row_heading level0 row8\" >8</th>\n",
              "      <td id=\"T_5b94a_row8_col0\" class=\"data row8 col0\" >0.0000</td>\n",
              "      <td id=\"T_5b94a_row8_col1\" class=\"data row8 col1\" >0.0000</td>\n",
              "      <td id=\"T_5b94a_row8_col2\" class=\"data row8 col2\" >0.0000</td>\n",
              "      <td id=\"T_5b94a_row8_col3\" class=\"data row8 col3\" >1.0000</td>\n",
              "      <td id=\"T_5b94a_row8_col4\" class=\"data row8 col4\" >0.0002</td>\n",
              "      <td id=\"T_5b94a_row8_col5\" class=\"data row8 col5\" >0.0000</td>\n",
              "    </tr>\n",
              "    <tr>\n",
              "      <th id=\"T_5b94a_level0_row9\" class=\"row_heading level0 row9\" >9</th>\n",
              "      <td id=\"T_5b94a_row9_col0\" class=\"data row9 col0\" >0.0055</td>\n",
              "      <td id=\"T_5b94a_row9_col1\" class=\"data row9 col1\" >0.0001</td>\n",
              "      <td id=\"T_5b94a_row9_col2\" class=\"data row9 col2\" >0.0088</td>\n",
              "      <td id=\"T_5b94a_row9_col3\" class=\"data row9 col3\" >0.9996</td>\n",
              "      <td id=\"T_5b94a_row9_col4\" class=\"data row9 col4\" >0.0068</td>\n",
              "      <td id=\"T_5b94a_row9_col5\" class=\"data row9 col5\" >0.0047</td>\n",
              "    </tr>\n",
              "    <tr>\n",
              "      <th id=\"T_5b94a_level0_row10\" class=\"row_heading level0 row10\" >Mean</th>\n",
              "      <td id=\"T_5b94a_row10_col0\" class=\"data row10 col0\" >0.0043</td>\n",
              "      <td id=\"T_5b94a_row10_col1\" class=\"data row10 col1\" >0.0001</td>\n",
              "      <td id=\"T_5b94a_row10_col2\" class=\"data row10 col2\" >0.0069</td>\n",
              "      <td id=\"T_5b94a_row10_col3\" class=\"data row10 col3\" >0.9997</td>\n",
              "      <td id=\"T_5b94a_row10_col4\" class=\"data row10 col4\" >0.0054</td>\n",
              "      <td id=\"T_5b94a_row10_col5\" class=\"data row10 col5\" >0.0037</td>\n",
              "    </tr>\n",
              "    <tr>\n",
              "      <th id=\"T_5b94a_level0_row11\" class=\"row_heading level0 row11\" >Std</th>\n",
              "      <td id=\"T_5b94a_row11_col0\" class=\"data row11 col0\" >0.0022</td>\n",
              "      <td id=\"T_5b94a_row11_col1\" class=\"data row11 col1\" >0.0000</td>\n",
              "      <td id=\"T_5b94a_row11_col2\" class=\"data row11 col2\" >0.0035</td>\n",
              "      <td id=\"T_5b94a_row11_col3\" class=\"data row11 col3\" >0.0002</td>\n",
              "      <td id=\"T_5b94a_row11_col4\" class=\"data row11 col4\" >0.0026</td>\n",
              "      <td id=\"T_5b94a_row11_col5\" class=\"data row11 col5\" >0.0019</td>\n",
              "    </tr>\n",
              "  </tbody>\n",
              "</table>\n"
            ]
          },
          "metadata": {}
        },
        {
          "output_type": "display_data",
          "data": {
            "text/plain": [
              "Processing:   0%|          | 0/7 [00:00<?, ?it/s]"
            ],
            "application/vnd.jupyter.widget-view+json": {
              "version_major": 2,
              "version_minor": 0,
              "model_id": "7e873b02cfec4cf796442b0c2e0a0e8d"
            }
          },
          "metadata": {
            "application/vnd.jupyter.widget-view+json": {
              "colab": {
                "custom_widget_manager": {
                  "url": "https://ssl.gstatic.com/colaboratory-static/widgets/colab-cdn-widget-manager/2b70e893a8ba7c0f/manager.min.js"
                }
              }
            }
          }
        },
        {
          "output_type": "stream",
          "name": "stdout",
          "text": [
            "Fitting 10 folds for each of 10 candidates, totalling 100 fits\n"
          ]
        },
        {
          "output_type": "display_data",
          "data": {
            "text/plain": [
              "<IPython.core.display.HTML object>"
            ],
            "text/html": []
          },
          "metadata": {}
        }
      ]
    },
    {
      "cell_type": "markdown",
      "source": [
        "Pode ser observado que com essa etapa o modelo apresentou melhoria nos parametros de R2 e MSE, com isso o modelo lar_tuned será utilizado."
      ],
      "metadata": {
        "id": "-X3Y7YS9wO-W"
      }
    },
    {
      "cell_type": "markdown",
      "source": [
        "Com esses dados é possivel plotar graficos com as caracteristicas do modelo."
      ],
      "metadata": {
        "id": "ypMY5V32wdjR"
      }
    },
    {
      "cell_type": "markdown",
      "source": [
        "O primeiro Grafico é o do erro:"
      ],
      "metadata": {
        "id": "bq7C5GTEwxqS"
      }
    },
    {
      "cell_type": "code",
      "source": [
        "plot_model(lar_tuned, plot = 'error')"
      ],
      "metadata": {
        "colab": {
          "base_uri": "https://localhost:8080/",
          "height": 526
        },
        "id": "MYz3b0wrw2WZ",
        "outputId": "98456217-6485-492f-e384-15b15ea1cfa4"
      },
      "execution_count": 16,
      "outputs": [
        {
          "output_type": "display_data",
          "data": {
            "text/plain": [
              "<IPython.core.display.HTML object>"
            ],
            "text/html": []
          },
          "metadata": {}
        },
        {
          "output_type": "display_data",
          "data": {
            "text/plain": [
              "<Figure size 800x550 with 1 Axes>"
            ],
            "image/png": "[encoded data removed]"
          },
          "metadata": {}
        }
      ]
    },
    {
      "cell_type": "markdown",
      "source": [
        "O gráfico apresentou uma aproximação muito grande, com um erro tendendo a 0."
      ],
      "metadata": {
        "id": "g_knSacvxW1V"
      }
    },
    {
      "cell_type": "markdown",
      "source": [
        "É possivel comparar os residuos em gráfico:"
      ],
      "metadata": {
        "id": "xpSd05Koxr14"
      }
    },
    {
      "cell_type": "code",
      "source": [
        "plot_model(lar_tuned, plot = 'residuals')"
      ],
      "metadata": {
        "colab": {
          "base_uri": "https://localhost:8080/",
          "height": 524
        },
        "id": "BKvDfMxpxqXw",
        "outputId": "4576cf67-facc-483d-be5b-40a713ea18df"
      },
      "execution_count": 17,
      "outputs": [
        {
          "output_type": "display_data",
          "data": {
            "text/plain": [
              "<IPython.core.display.HTML object>"
            ],
            "text/html": []
          },
          "metadata": {}
        },
        {
          "output_type": "display_data",
          "data": {
            "text/plain": [
              "<Figure size 800x550 with 2 Axes>"
            ],
            "image/png": "[encoded data removed]"
          },
          "metadata": {}
        }
      ]
    },
    {
      "cell_type": "markdown",
      "source": [
        "Um gráfico muito interessante é o que comara a importancia de cada caracteristica dos dados em relação ao modelo:"
      ],
      "metadata": {
        "id": "pwhiySygx7uN"
      }
    },
    {
      "cell_type": "code",
      "source": [
        "plot_model(lar_tuned, plot = 'feature')"
      ],
      "metadata": {
        "colab": {
          "base_uri": "https://localhost:8080/",
          "height": 485
        },
        "id": "vwlY4Vu7yLjd",
        "outputId": "4b5121cd-1df5-41f3-d384-f3f3f66b162b"
      },
      "execution_count": 18,
      "outputs": [
        {
          "output_type": "display_data",
          "data": {
            "text/plain": [
              "<IPython.core.display.HTML object>"
            ],
            "text/html": []
          },
          "metadata": {}
        },
        {
          "output_type": "display_data",
          "data": {
            "text/plain": [
              "<Figure size 800x500 with 1 Axes>"
            ],
            "image/png": "[encoded data removed]"
          },
          "metadata": {}
        }
      ]
    },
    {
      "cell_type": "markdown",
      "source": [
        "Pode se observar que o dado que teve mais peso é o TP_PRESENCA_LC que indica a presença no primeiro dia da prova, ele influencia mais na analise da presença no segundo dia da prova"
      ],
      "metadata": {
        "id": "teuXmqhfyc3K"
      }
    },
    {
      "cell_type": "markdown",
      "source": [
        "A ultima etapa é finalizar e salvar o modelo para ser utilizado em produção:"
      ],
      "metadata": {
        "id": "9e9JAw9gzlkI"
      }
    },
    {
      "cell_type": "code",
      "source": [
        "finallar=finalize_model(lar_tuned)"
      ],
      "metadata": {
        "id": "X3sXvexjzu2K"
      },
      "execution_count": 20,
      "outputs": []
    },
    {
      "cell_type": "code",
      "source": [
        "save_model(finallar,'modelo_final')"
      ],
      "metadata": {
        "colab": {
          "base_uri": "https://localhost:8080/"
        },
        "id": "f36lCz-2z1kA",
        "outputId": "2272d4b5-93e8-4b6f-eaa6-9cea196545fd"
      },
      "execution_count": 21,
      "outputs": [
        {
          "output_type": "stream",
          "name": "stdout",
          "text": [
            "Transformation Pipeline and Model Successfully Saved\n"
          ]
        },
        {
          "output_type": "execute_result",
          "data": {
            "text/plain": [
              "(Pipeline(memory=Memory(location=None),\n",
              "          steps=[('numerical_imputer',\n",
              "                  TransformerWrapper(include=['NU_INSCRICAO', 'NU_ANO',\n",
              "                                              'TP_FAIXA_ETARIA',\n",
              "                                              'TP_ESTADO_CIVIL', 'TP_COR_RACA',\n",
              "                                              'TP_NACIONALIDADE',\n",
              "                                              'TP_ST_CONCLUSAO',\n",
              "                                              'TP_ANO_CONCLUIU', 'TP_ESCOLA',\n",
              "                                              'TP_ENSINO', 'IN_TREINEIRO',\n",
              "                                              'CO_MUNICIPIO_ESC', 'CO_UF_ESC',\n",
              "                                              'TP_DEPENDENCIA_ADM_ESC',\n",
              "                                              'TP_LOCALIZACAO_ESC',\n",
              "                                              'TP_SIT_FUN...\n",
              "                                                                          'mapping': F      0\n",
              " M      1\n",
              " NaN   -1\n",
              " dtype: int64}]))),\n",
              "                 ('rest_encoding',\n",
              "                  TransformerWrapper(include=['NO_MUNICIPIO_ESC', 'SG_UF_ESC',\n",
              "                                              'NO_MUNICIPIO_PROVA',\n",
              "                                              'SG_UF_PROVA'],\n",
              "                                     transformer=TargetEncoder(cols=['NO_MUNICIPIO_ESC',\n",
              "                                                                     'SG_UF_ESC',\n",
              "                                                                     'NO_MUNICIPIO_PROVA',\n",
              "                                                                     'SG_UF_PROVA'],\n",
              "                                                               handle_missing='return_nan'))),\n",
              "                 ('actual_estimator',\n",
              "                  Lars(eps=0.0001, fit_intercept=False, random_state=6598))]),\n",
              " 'modelo_final.pkl')"
            ]
          },
          "metadata": {},
          "execution_count": 21
        }
      ]
    },
    {
      "cell_type": "markdown",
      "source": [
        "E este acima é o modelo final."
      ],
      "metadata": {
        "id": "f8smcp7B0VUQ"
      }
    },
    {
      "cell_type": "markdown",
      "source": [
        "## Conclusões"
      ],
      "metadata": {
        "id": "e7AJ2Q_i0KQt"
      }
    },
    {
      "cell_type": "markdown",
      "source": [
        "Os resultados preliminares não foram muito satisfatorios, apresentando as caracteristicas de erro nos gráficos em formato inconclusivo pois os gráficos estão \"Muito Certos\", com uma melhor limpesa e separação da base de dados será possivel a obter um modelo mais acertivo."
      ],
      "metadata": {
        "id": "a52wwqlB0Myb"
      }
    },
    {
      "cell_type": "markdown",
      "source": [
        "Contudo pode-se concluir que esta proposta é valida para a utilização ao longo do curso."
      ],
      "metadata": {
        "id": "ZiR-vT3g03BX"
      }
    }
  ]
}